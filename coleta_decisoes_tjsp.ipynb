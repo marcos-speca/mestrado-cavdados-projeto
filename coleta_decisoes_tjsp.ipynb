{
 "cells": [
  {
   "cell_type": "markdown",
   "metadata": {},
   "source": [
    "### Carrega Lista de Processos, e baixa as decisões\n"
   ]
  },
  {
   "cell_type": "code",
   "execution_count": null,
   "metadata": {},
   "outputs": [],
   "source": [
    "# Importando as Bibliotecas\n",
    "import pandas as pd\n",
    "import requests \n",
    "from bs4 import BeautifulSoup\n",
    "import json\n",
    "import pymongo\n",
    "import yaml"
   ]
  },
  {
   "cell_type": "code",
   "execution_count": null,
   "metadata": {},
   "outputs": [],
   "source": [
    "# Carrega Configurações do arquivo config\n",
    "with open(\"config.yaml\", \"r\") as ymlfile:\n",
    "    cfg = yaml.full_load(ymlfile)\n",
    "\n",
    "user = cfg[\"mongodb\"][\"user\"]\n",
    "passwd = cfg[\"mongodb\"][\"passwd\"]\n",
    "host = cfg[\"mongodb\"][\"host\"]\n",
    "dbmongo = cfg[\"mongodb\"][\"db\"]\n"
   ]
  },
  {
   "cell_type": "code",
   "execution_count": null,
   "metadata": {},
   "outputs": [],
   "source": [
    "# Cria Conexão com banco\n",
    "url_conexao = \"mongodb+srv://\" + user + \":\" + passwd + \"@\" + host + \"/?retryWrites=true&w=majority\"\n",
    "client = pymongo.MongoClient(url_conexao)\n",
    "db = client[dbmongo]"
   ]
  },
  {
   "cell_type": "code",
   "execution_count": null,
   "metadata": {},
   "outputs": [],
   "source": [
    "# Coleções Mongo\n",
    "col_processos = db['processo']\n",
    "col_decisoes = db['decisoes']"
   ]
  },
  {
   "cell_type": "code",
   "execution_count": null,
   "metadata": {},
   "outputs": [],
   "source": [
    "dados = pd.DataFrame(list(col_processos.find({'processo.cod_empresa':{'$in':['PORTOSEGURO','MAPFRE']}})))\n",
    "df_processos = pd.json_normalize(dados['processo'])\n",
    "df_processos.shape"
   ]
  },
  {
   "cell_type": "code",
   "execution_count": null,
   "metadata": {},
   "outputs": [],
   "source": [
    "def pega_valores(soup,tag):\n",
    "    valor = soup.select_one('strong:-soup-contains(\"'+ tag +'\")')\n",
    "    if valor: \n",
    "        valor = valor.parent.text.strip()\n",
    "        valor = valor.replace(tag +':','').replace('\\t','').replace('\\n','').strip()\n",
    "        return valor"
   ]
  },
  {
   "cell_type": "code",
   "execution_count": null,
   "metadata": {},
   "outputs": [],
   "source": [
    "procs = df_processos['nro_processo']\n",
    "procs\n",
    "#procs = ['1008842-42.2021.8.26.0704','1003031-42.2022.8.26.0001','1015939-91.2018.8.26.0577','0008053-14.2021.8.26.0590']\n",
    "#procs = list(df_procs['nro_processo'].head(100))\n",
    "#df_procs2 = df_procs[1625:]\n",
    "#procs = list(df_procs2['nro_processo'])"
   ]
  },
  {
   "cell_type": "code",
   "execution_count": null,
   "metadata": {},
   "outputs": [],
   "source": [
    "dados = []\n",
    "\n",
    "for proc in procs:\n",
    "    url = \"https://esaj.tjsp.jus.br/cjpg/pesquisar.do?conversationId=&dadosConsulta.pesquisaLivre=&tipoNumero=UNIFICADO&numeroDigitoAnoUnificado=1003031-42.2022&foroNumeroUnificado=0001&dadosConsulta.nuProcesso=\" + proc\n",
    "    \n",
    "    try: \n",
    "        html = requests.get(url).content\n",
    "    except: \n",
    "        pass\n",
    "    soup = BeautifulSoup(html, 'html.parser')\n",
    "\n",
    "    aviso = soup.select_one('div:-soup-contains(\"Não foi encontrado nenhum\")')\n",
    "\n",
    "    if aviso: \n",
    "        print(\"Processo: \" + proc + \" sem resultados\")\n",
    "        \n",
    "    else:\n",
    "        print(\"Processo: \" + proc + \" com resultados\")\n",
    "        classe = pega_valores(soup,'Classe')\n",
    "        assunto = pega_valores(soup,'Assunto')\n",
    "        magistrado = pega_valores(soup,'Magistrado')\n",
    "        comarca = pega_valores(soup,'Comarca')\n",
    "        foro = pega_valores(soup,'Foro')\n",
    "        vara = pega_valores(soup,'Vara')\n",
    "        data_disp = pega_valores(soup,'Data de Disponibilização')\n",
    "        texto_decisao = soup.find('div',attrs={'align':'justify','style':'display: none;'}).text.strip()\n",
    "\n",
    "        dados.append([proc,classe,assunto,magistrado,comarca,foro,vara,data_disp,texto_decisao])\n"
   ]
  },
  {
   "cell_type": "code",
   "execution_count": null,
   "metadata": {},
   "outputs": [],
   "source": [
    "df_decisoes = pd.DataFrame(dados,columns=[\"nro_processo\",\"classe\",\"assunto\",\"magistrado\",\"comarca\",\"foro\",\"vara\",\"data_disp\",\"texto_decisao\"])\n",
    "df_decisoes['instancia'] = \"1ª Instância\"\n"
   ]
  },
  {
   "cell_type": "code",
   "execution_count": null,
   "metadata": {},
   "outputs": [],
   "source": [
    "def carrega_decisao(linha):\n",
    "    json_str = str(linha.to_json())\n",
    "    json_str = '{\"decisao\":' + json_str + '}'\n",
    "    col_decisoes.find_one_and_update({'decisao.nro_processo':linha['nro_processo']},{'$set':json.loads(json_str)},upsert=True)"
   ]
  },
  {
   "cell_type": "code",
   "execution_count": null,
   "metadata": {},
   "outputs": [],
   "source": [
    "for index,decisao in df_decisoes.iterrows(): \n",
    "    carrega_decisao(df_decisoes.loc[index])\n"
   ]
  }
 ],
 "metadata": {
  "kernelspec": {
   "display_name": "Python 3.10.7 64-bit",
   "language": "python",
   "name": "python3"
  },
  "language_info": {
   "codemirror_mode": {
    "name": "ipython",
    "version": 3
   },
   "file_extension": ".py",
   "mimetype": "text/x-python",
   "name": "python",
   "nbconvert_exporter": "python",
   "pygments_lexer": "ipython3",
   "version": "3.10.7"
  },
  "orig_nbformat": 4,
  "vscode": {
   "interpreter": {
    "hash": "26de051ba29f2982a8de78e945f0abaf191376122a1563185a90213a26c5da77"
   }
  }
 },
 "nbformat": 4,
 "nbformat_minor": 2
}
