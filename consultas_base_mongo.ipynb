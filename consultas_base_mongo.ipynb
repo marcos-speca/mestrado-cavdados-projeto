{
 "cells": [
  {
   "cell_type": "markdown",
   "metadata": {},
   "source": [
    "### Queries na base de dados Mongo\n"
   ]
  },
  {
   "cell_type": "code",
   "execution_count": 1,
   "metadata": {},
   "outputs": [],
   "source": [
    "# Importando as Bibliotecas\n",
    "import pandas as pd\n",
    "import json\n",
    "import pymongo"
   ]
  },
  {
   "cell_type": "code",
   "execution_count": 2,
   "metadata": {},
   "outputs": [],
   "source": [
    "# Conexão com o Banco de Dados\n",
    "user = \"\"\n",
    "client = pymongo.MongoClient(\"mongodb+srv://\" + user + \"@cluster0.kqbxfp4.mongodb.net/?retryWrites=true&w=majority\")\n",
    "db = client['proc-jud']\n",
    "col_processos = db['processo']"
   ]
  },
  {
   "cell_type": "code",
   "execution_count": 134,
   "metadata": {},
   "outputs": [
    {
     "data": {
      "text/plain": [
       "5292"
      ]
     },
     "execution_count": 134,
     "metadata": {},
     "output_type": "execute_result"
    }
   ],
   "source": [
    "col_processos.count_documents({'processo.cod_empresa':'MAPFRE'})"
   ]
  },
  {
   "cell_type": "code",
   "execution_count": 5,
   "metadata": {},
   "outputs": [
    {
     "data": {
      "text/plain": [
       "4"
      ]
     },
     "execution_count": 5,
     "metadata": {},
     "output_type": "execute_result"
    }
   ],
   "source": [
    "#col_processos.find_one({'processo.cod_empresa':{'$exists':False}})\n",
    "col_processos.count_documents({'processo.cod_empresa':{'$exists':False}})"
   ]
  },
  {
   "cell_type": "code",
   "execution_count": 10,
   "metadata": {},
   "outputs": [
    {
     "data": {
      "text/plain": [
       "<pymongo.results.UpdateResult at 0x15b439d9c00>"
      ]
     },
     "execution_count": 10,
     "metadata": {},
     "output_type": "execute_result"
    }
   ],
   "source": [
    "col_processos.update_many({'processo.cod_empresa':\"PORTOSGURO\"},{'$set': {'processo.cod_empresa':'PORTOSEGURO'}})"
   ]
  },
  {
   "cell_type": "code",
   "execution_count": null,
   "metadata": {},
   "outputs": [],
   "source": [
    "col_processos.find_one({'processo.nome_parte':{'$regex':\"(Azul)\"}})"
   ]
  },
  {
   "cell_type": "code",
   "execution_count": 139,
   "metadata": {},
   "outputs": [
    {
     "data": {
      "text/plain": [
       "{'_id': ObjectId('632d16b4bb23267a646f1de9'),\n",
       " 'processo': {'nro_processo': '1001360-48.2018.8.26.0704',\n",
       "  'link_processo': '/cpopg/show.do?processo.codigo=JK0001ZHA0000&processo.foro=704&cbPesquisa=DOCPARTE&dadosConsulta.valorConsulta=61074175000138&cdForo=704&paginaConsulta=1',\n",
       "  'nome_parte': 'Mapfre Seguros Gerais S.A.',\n",
       "  'classe_processo': 'Procedimento Comum Cível',\n",
       "  'assunto_processo': 'Indenização por Dano Moral',\n",
       "  'data_local_distribuicao': '07/03/2018 - 2ª Vara Cível',\n",
       "  'cod_empresa': 'MAPFRE'},\n",
       " 'decisao': {'proc': '1001360-48.2018.8.26.0704',\n",
       "  'magistrado': 'Monica Lima Pereira',\n",
       "  'comarca': 'SÃO PAULO',\n",
       "  'foro': 'Foro Regional XV - Butantã',\n",
       "  'vara': '2ª Vara Cível',\n",
       "  'data_disp': '26/06/2020',\n",
       "  'texto_decisao': 'TRIBUNAL DE JUSTIÇA DO ESTADO DE SÃO PAULO\\n\\nCOMARCA de SÃO PAULO\\n\\nForo Regional XV - Butantã\\n\\n2ª Vara Cível\\n\\nAvenida Corifeu de Azevedo Marques,148/150, Compl. do Endereço da Vara << Informação indisponível >> - Butanta\\n\\nCEP: 05582-000 - São Paulo - SP\\n\\nTelefone: (11) 3721-6399 - E-mail: butantacivel@tjsp.jus.br\\n\\n      \\t\\t\\t\\t\\t\\t\\t\\t\\t\\t\\t\\n\\n1001360-48.2018.8.26.0704 - lauda \\n\\nSENTENÇA\\n\\n\\n\\nProcesso nº:\\n\\n1001360-48.2018.8.26.0704\\n\\nClasse - Assunto\\n\\nProcedimento Comum Cível - Indenização por Dano Moral\\n\\nRequerente:\\n\\nAleandro Jose dos Santos\\n\\nRequerido:\\n\\nMapfre Seguros Gerais S.A. e outro\\n\\n\\n\\nJustiça Gratuita\\n\\n\\n\\nJuíza de Direito: Dra. Monica Lima Pereira\\n\\n\\n\\n\\n\\nVistos.\\n\\n\\n\\nALEANDRO JOSÉ DOS SANTOS ajuizou ação de cobrança cumulada com danos morais, materiais e lucros cessantes em face de MAPFRE SEGUROS GERAIS S/A E ILIBADA CORRETORA DE SEGUROS LTDA, todos qualificados nos autos. Relata que, em 10 de abril de 2017, firmou com a ré contrato de seguro de automóvel, referente ao veículo Duster 4x2 16v, anos 2012/2013, placa NYF-4825. Alega que, em 18 de julho de 2017, o veículo segurado trafegava pela Avenida Politécnica, s/n, quando colidiu com sua dianteira na região traseira do veículo à frente. Sustenta que solicitou à corré Mapfre Seguros Gerais S/A  a utilização do guincho, através do sinistro nº 0001-2017132962s00, o qual foi negado, sob alegação de que não havia cobertura. Alega que dirigiu-se ao posto de atendimento rápido e especializado da ré para tentar solucionar a questão, no entanto, o seu direito foi novamente negado. Afirma que realizou empréstimos para reparar os danos em seu veículo. Salienta que suportou danos morais diante da conduta ilícita da corré Mapfre Seguros Gerais S/A. Requer, assim, a total procedência da ação para condenar as rés ao pagamento de R$ 32.000,00 (trinta e dois mil reais) a título de indenização por morais, o pagamento de R$ 1.500 (mil e quinhentos reais) a título de indenização por danos materiais, ao pagamento de R$ 2.043,80 (dois mil quarenta e três reais e oitenta centavos) a título de restituição das despesas gastas com o guincho, além do pagamento de R$ 1.750 (mil setecentos e cinquenta) referente aos lucros cessantes de 5 diárias. Ao final, requer a condenação das rés ao pagamento das custas, despesas processuais e honorários advocatícios. Com a inicial, juntou documentos. \\n\\nA ré Mapfre Seguros Gerais S/A foi devidamente citada e apresentou contestação. Sustenta que o autor não provou os fatos alegados na inicial. Alega que autor não solicitou os serviços de assistência 24 horas da ré, apenas requereu informações sobre os seus postos de atendimentos. Sustenta que não houve falha na prestação de serviços. Salienta que os lucros cessantes não foram devidamente comprovados. Defende que os danos morais não restaram devidamente comprovados. Requer, assim, a total improcedência da ação, com a condenação do autor ao pagamento das custas, despesas processuais e honorários advocatícios. Também juntou documentos. \\n\\nA corré Ilibada Corretora de Seguros Ltda foi citada por edital (fls. 215), tendo sido nomeado Curador Especial, que apresentou contestação. Impugna genericamente todos os fatos descritos na inicial. Requer, assim, que seja julgado totalmente improcedente a ação, condenando-se o requerente ao pagamento das custas, despesas processuais e honorários advocatícios.\\n\\nAs rés não manifestaram interesse na designação de audiência de conciliação. \\n\\nÉ o relatório. \\n\\nDECIDO.\\n\\nO feito comporta julgamento antecipado, nos termos do art. 355, I, do Código de Processo Civil, pois não há necessidade da produção de outras provas.\\n\\nTrata-se de ação de indenização, sob o fundamento de descumprimento contratual por parte das requeridas.\\n\\nA ação é improcedente.\\n\\nO autor, com a inicial, narrou que, em decorrência de acidente de veículo, solicitou a disponibilização de guincho pela requerida o qual, em que pese estar coberto pelo contrato de seguro, não foi providenciado.\\n\\nOcorre, no entanto, que a requerida Mapfre impugnou a suposta negativa do serviço, aduzindo a inexistência de provas quanto a solicitação, bem como quanto a necessidade da utilização do guincho.\\n\\nNeste ponto, razão assiste à requerida. \\n\\nNão há nos autos qualquer documento que comprove que o autor de fato tenha solicitado o guincho, bem como tenha despendido qualquer valor para a utilização de serviço particular.\\n\\nE não se alegue a necessidade de inversão do ônus da prova em decorrência da relação de consumo entre as partes. Para a aplicação da referida inversão, deve haver verossimilhança das alegações, bem como impossibilidade ou demasiada onerosidade na produção da prova, o que não é o caso.\\n\\nCompetia ao autor, assim, a demonstração mínima dos fatos, podendo, para tanto, apresentar o recibo de pagamento do alegado guincho particular contratado ou a produção de prova oral para comprovação dos fatos narrados pelos envolvidos no acidente, a fim de constatar a ausência de auxílio pela requerida, o que não ocorreu. \\n\\nNa forma do artigo 373, inciso I, do Código de Processo Civil competia ao autor  provar, ainda que minimamente, o fato constitutivo de seu direito. Mas, no caso, não se desincumbiu desse ônus.\\n\\nDestaque-se intimado a esclarecer sobre eventual produção de prova documental (fls. 240), o autor quedou-se inerte.\\n\\nAssim, não há como se reconhecer eventual descumprimento contratual por parte das requeridas, de modo que o autor não faz jus à indenização por danos materiais pretendida.\\n\\nDa mesma forma, não havendo ato ilícito imputável às rés, não que se falar em condenação por danos morais, de modo que imperioso o reconhecimento da total improcedência da demanda. \\n\\nDiante do exposto, JULGO IMPROCEDENTE a presente ação, com fundamento no artigo 487, inciso I, do Código de Processo Civil e, em razão da sucumbência, condeno o autor ao pagamento das custas, despesas processuais e honorários advocatícios que fixo em 10% sobre o valor dado à causa, observando-se, no entanto, o disposto no artigo 98, §3º do Código de Processo Civil, uma vez que beneficiário da justiça gratuita. \\n\\n\\n\\nP.R.I.\\n\\n\\n\\nSão Paulo, 26 de junho de 2020.'}}"
      ]
     },
     "execution_count": 139,
     "metadata": {},
     "output_type": "execute_result"
    }
   ],
   "source": [
    "p1 = col_processos.find_one({'processo.nro_processo':'1001360-48.2018.8.26.0704'})\n",
    "p1"
   ]
  },
  {
   "cell_type": "code",
   "execution_count": 136,
   "metadata": {},
   "outputs": [
    {
     "data": {
      "text/html": [
       "<div>\n",
       "<style scoped>\n",
       "    .dataframe tbody tr th:only-of-type {\n",
       "        vertical-align: middle;\n",
       "    }\n",
       "\n",
       "    .dataframe tbody tr th {\n",
       "        vertical-align: top;\n",
       "    }\n",
       "\n",
       "    .dataframe thead th {\n",
       "        text-align: right;\n",
       "    }\n",
       "</style>\n",
       "<table border=\"1\" class=\"dataframe\">\n",
       "  <thead>\n",
       "    <tr style=\"text-align: right;\">\n",
       "      <th></th>\n",
       "      <th>nro_processo</th>\n",
       "      <th>link_processo</th>\n",
       "      <th>nome_parte</th>\n",
       "      <th>classe_processo</th>\n",
       "      <th>assunto_processo</th>\n",
       "      <th>data_local_distribuicao</th>\n",
       "      <th>cod_empresa</th>\n",
       "    </tr>\n",
       "  </thead>\n",
       "  <tbody>\n",
       "    <tr>\n",
       "      <th>0</th>\n",
       "      <td>1030112-63.2022.8.26.0001</td>\n",
       "      <td>/cpopg/show.do?processo.codigo=01001Q05Z0000&amp;p...</td>\n",
       "      <td>Porto Seguro Companhia de Seguros Gerais</td>\n",
       "      <td>Procedimento do Juizado Especial Cível</td>\n",
       "      <td>Obrigações</td>\n",
       "      <td>20/09/2022 - 2ª Vara do Juizado Especial Cível</td>\n",
       "      <td>PORTOSEGURO</td>\n",
       "    </tr>\n",
       "    <tr>\n",
       "      <th>1</th>\n",
       "      <td>1029718-56.2022.8.26.0001</td>\n",
       "      <td>/cpopg/show.do?processo.codigo=01001PZC20000&amp;p...</td>\n",
       "      <td>Porto Seguro Companhia de Seguros Gerais</td>\n",
       "      <td>Procedimento Comum Cível</td>\n",
       "      <td>Seguro</td>\n",
       "      <td>15/09/2022 - 1ª Vara Cível</td>\n",
       "      <td>PORTOSEGURO</td>\n",
       "    </tr>\n",
       "    <tr>\n",
       "      <th>2</th>\n",
       "      <td>1029641-47.2022.8.26.0001</td>\n",
       "      <td>/cpopg/show.do?processo.codigo=01001PZ8N0000&amp;p...</td>\n",
       "      <td>Porto Seguro Companhia de Seguros Gerais</td>\n",
       "      <td>Procedimento Comum Cível</td>\n",
       "      <td>Veículos</td>\n",
       "      <td>15/09/2022 - 2ª Vara Cível</td>\n",
       "      <td>PORTOSEGURO</td>\n",
       "    </tr>\n",
       "    <tr>\n",
       "      <th>3</th>\n",
       "      <td>1029222-27.2022.8.26.0001</td>\n",
       "      <td>/cpopg/show.do?processo.codigo=01001PYJA0000&amp;p...</td>\n",
       "      <td>Porto Seguro Companhia de Seguros Gerais</td>\n",
       "      <td>Procedimento Comum Cível</td>\n",
       "      <td>Acidente de Trânsito</td>\n",
       "      <td>13/09/2022 - 9ª Vara Cível</td>\n",
       "      <td>PORTOSEGURO</td>\n",
       "    </tr>\n",
       "    <tr>\n",
       "      <th>4</th>\n",
       "      <td>1028974-61.2022.8.26.0001</td>\n",
       "      <td>/cpopg/show.do?processo.codigo=01001PXY10000&amp;p...</td>\n",
       "      <td>Porto Seguro Companhia de Seguros Gerais</td>\n",
       "      <td>Procedimento Comum Cível</td>\n",
       "      <td>Acidente de Trânsito</td>\n",
       "      <td>09/09/2022 - 4ª Vara Cível</td>\n",
       "      <td>PORTOSEGURO</td>\n",
       "    </tr>\n",
       "    <tr>\n",
       "      <th>...</th>\n",
       "      <td>...</td>\n",
       "      <td>...</td>\n",
       "      <td>...</td>\n",
       "      <td>...</td>\n",
       "      <td>...</td>\n",
       "      <td>...</td>\n",
       "      <td>...</td>\n",
       "    </tr>\n",
       "    <tr>\n",
       "      <th>19734</th>\n",
       "      <td>1003799-66.2017.8.26.0704</td>\n",
       "      <td>/cpopg/show.do?processo.codigo=JK0001O6B0000&amp;p...</td>\n",
       "      <td>Mapfre Seguros Gerais S.A.</td>\n",
       "      <td>Procedimento Comum Cível</td>\n",
       "      <td>Seguro</td>\n",
       "      <td>17/06/2017 - 3ª Vara Cível</td>\n",
       "      <td>MAPFRE</td>\n",
       "    </tr>\n",
       "    <tr>\n",
       "      <th>19735</th>\n",
       "      <td>1003624-72.2017.8.26.0704</td>\n",
       "      <td>/cpopg/show.do?processo.codigo=JK0001NXJ0000&amp;p...</td>\n",
       "      <td>Mapfre Seguros Gerais S.A.</td>\n",
       "      <td>Procedimento Comum Cível</td>\n",
       "      <td>Seguro</td>\n",
       "      <td>08/06/2017 - 3ª Vara Cível</td>\n",
       "      <td>MAPFRE</td>\n",
       "    </tr>\n",
       "    <tr>\n",
       "      <th>19736</th>\n",
       "      <td>1006994-93.2016.8.26.0704</td>\n",
       "      <td>/cpopg/show.do?processo.codigo=JK0001F1N0000&amp;p...</td>\n",
       "      <td>Mapfre Seguros Gerais S.A.</td>\n",
       "      <td>Execução de Título Extrajudicial</td>\n",
       "      <td>Locação de Imóvel</td>\n",
       "      <td>25/10/2016 - 2ª Vara Cível</td>\n",
       "      <td>MAPFRE</td>\n",
       "    </tr>\n",
       "    <tr>\n",
       "      <th>19737</th>\n",
       "      <td>1008391-27.2015.8.26.0704</td>\n",
       "      <td>/cpopg/show.do?processo.codigo=JK00015GF0000&amp;p...</td>\n",
       "      <td>Mapfre Seguros Gerais S.A.</td>\n",
       "      <td>Procedimento Comum Cível</td>\n",
       "      <td>Indenização por Dano Material</td>\n",
       "      <td>18/12/2015 - 3ª Vara Cível</td>\n",
       "      <td>MAPFRE</td>\n",
       "    </tr>\n",
       "    <tr>\n",
       "      <th>19738</th>\n",
       "      <td>1004826-55.2015.8.26.0704</td>\n",
       "      <td>/cpopg/show.do?processo.codigo=JK00010LJ0000&amp;p...</td>\n",
       "      <td>Mapfre Seguros Gerais S.A.</td>\n",
       "      <td>Procedimento Comum Cível</td>\n",
       "      <td>Despesas Condominiais</td>\n",
       "      <td>31/07/2015 - 3ª Vara Cível</td>\n",
       "      <td>MAPFRE</td>\n",
       "    </tr>\n",
       "  </tbody>\n",
       "</table>\n",
       "<p>19739 rows × 7 columns</p>\n",
       "</div>"
      ],
      "text/plain": [
       "                    nro_processo  \\\n",
       "0      1030112-63.2022.8.26.0001   \n",
       "1      1029718-56.2022.8.26.0001   \n",
       "2      1029641-47.2022.8.26.0001   \n",
       "3      1029222-27.2022.8.26.0001   \n",
       "4      1028974-61.2022.8.26.0001   \n",
       "...                          ...   \n",
       "19734  1003799-66.2017.8.26.0704   \n",
       "19735  1003624-72.2017.8.26.0704   \n",
       "19736  1006994-93.2016.8.26.0704   \n",
       "19737  1008391-27.2015.8.26.0704   \n",
       "19738  1004826-55.2015.8.26.0704   \n",
       "\n",
       "                                           link_processo  \\\n",
       "0      /cpopg/show.do?processo.codigo=01001Q05Z0000&p...   \n",
       "1      /cpopg/show.do?processo.codigo=01001PZC20000&p...   \n",
       "2      /cpopg/show.do?processo.codigo=01001PZ8N0000&p...   \n",
       "3      /cpopg/show.do?processo.codigo=01001PYJA0000&p...   \n",
       "4      /cpopg/show.do?processo.codigo=01001PXY10000&p...   \n",
       "...                                                  ...   \n",
       "19734  /cpopg/show.do?processo.codigo=JK0001O6B0000&p...   \n",
       "19735  /cpopg/show.do?processo.codigo=JK0001NXJ0000&p...   \n",
       "19736  /cpopg/show.do?processo.codigo=JK0001F1N0000&p...   \n",
       "19737  /cpopg/show.do?processo.codigo=JK00015GF0000&p...   \n",
       "19738  /cpopg/show.do?processo.codigo=JK00010LJ0000&p...   \n",
       "\n",
       "                                     nome_parte  \\\n",
       "0      Porto Seguro Companhia de Seguros Gerais   \n",
       "1      Porto Seguro Companhia de Seguros Gerais   \n",
       "2      Porto Seguro Companhia de Seguros Gerais   \n",
       "3      Porto Seguro Companhia de Seguros Gerais   \n",
       "4      Porto Seguro Companhia de Seguros Gerais   \n",
       "...                                         ...   \n",
       "19734                Mapfre Seguros Gerais S.A.   \n",
       "19735                Mapfre Seguros Gerais S.A.   \n",
       "19736                Mapfre Seguros Gerais S.A.   \n",
       "19737                Mapfre Seguros Gerais S.A.   \n",
       "19738                Mapfre Seguros Gerais S.A.   \n",
       "\n",
       "                              classe_processo               assunto_processo  \\\n",
       "0      Procedimento do Juizado Especial Cível                     Obrigações   \n",
       "1                    Procedimento Comum Cível                         Seguro   \n",
       "2                    Procedimento Comum Cível                       Veículos   \n",
       "3                    Procedimento Comum Cível           Acidente de Trânsito   \n",
       "4                    Procedimento Comum Cível           Acidente de Trânsito   \n",
       "...                                       ...                            ...   \n",
       "19734                Procedimento Comum Cível                         Seguro   \n",
       "19735                Procedimento Comum Cível                         Seguro   \n",
       "19736        Execução de Título Extrajudicial              Locação de Imóvel   \n",
       "19737                Procedimento Comum Cível  Indenização por Dano Material   \n",
       "19738                Procedimento Comum Cível          Despesas Condominiais   \n",
       "\n",
       "                              data_local_distribuicao  cod_empresa  \n",
       "0      20/09/2022 - 2ª Vara do Juizado Especial Cível  PORTOSEGURO  \n",
       "1                          15/09/2022 - 1ª Vara Cível  PORTOSEGURO  \n",
       "2                          15/09/2022 - 2ª Vara Cível  PORTOSEGURO  \n",
       "3                          13/09/2022 - 9ª Vara Cível  PORTOSEGURO  \n",
       "4                          09/09/2022 - 4ª Vara Cível  PORTOSEGURO  \n",
       "...                                               ...          ...  \n",
       "19734                      17/06/2017 - 3ª Vara Cível       MAPFRE  \n",
       "19735                      08/06/2017 - 3ª Vara Cível       MAPFRE  \n",
       "19736                      25/10/2016 - 2ª Vara Cível       MAPFRE  \n",
       "19737                      18/12/2015 - 3ª Vara Cível       MAPFRE  \n",
       "19738                      31/07/2015 - 3ª Vara Cível       MAPFRE  \n",
       "\n",
       "[19739 rows x 7 columns]"
      ]
     },
     "execution_count": 136,
     "metadata": {},
     "output_type": "execute_result"
    }
   ],
   "source": [
    "#df = pd.DataFrame.from_records(processos,index=['nro_processo','link_processo','nome_parte'])\n",
    "dados = pd.DataFrame(list(col_processos.find({'processo.cod_empresa':{'$in':['PORTOSEGURO','MAPFRE']}})))\n",
    "df = pd.json_normalize(dados['processo'])\n",
    "df"
   ]
  },
  {
   "cell_type": "code",
   "execution_count": null,
   "metadata": {},
   "outputs": [],
   "source": [
    "col_processos.update_many({'processo.cod_empresa':'Gol'},{'$set': {'processo.cod_empresa':'GOL'}})"
   ]
  },
  {
   "cell_type": "code",
   "execution_count": 137,
   "metadata": {},
   "outputs": [
    {
     "data": {
      "text/plain": [
       "cod_empresa\n",
       "MAPFRE          5292\n",
       "PORTOSEGURO    14447\n",
       "Name: nro_processo, dtype: int64"
      ]
     },
     "execution_count": 137,
     "metadata": {},
     "output_type": "execute_result"
    }
   ],
   "source": [
    "df.groupby('cod_empresa')['nro_processo'].count()"
   ]
  }
 ],
 "metadata": {
  "kernelspec": {
   "display_name": "Python 3.10.7 64-bit",
   "language": "python",
   "name": "python3"
  },
  "language_info": {
   "codemirror_mode": {
    "name": "ipython",
    "version": 3
   },
   "file_extension": ".py",
   "mimetype": "text/x-python",
   "name": "python",
   "nbconvert_exporter": "python",
   "pygments_lexer": "ipython3",
   "version": "3.10.7"
  },
  "orig_nbformat": 4,
  "vscode": {
   "interpreter": {
    "hash": "26de051ba29f2982a8de78e945f0abaf191376122a1563185a90213a26c5da77"
   }
  }
 },
 "nbformat": 4,
 "nbformat_minor": 2
}
