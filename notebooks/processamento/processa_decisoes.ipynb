{
 "cells": [
  {
   "cell_type": "markdown",
   "metadata": {},
   "source": [
    "### Processa Decisões\n",
    "1. Identifica o resultado (Improcedente, Procedente ou Procedente em Parte)\n",
    "2. Atualiza os processos com as infos da decisão (Data, Resultado e Juiz)\n"
   ]
  },
  {
   "cell_type": "code",
   "execution_count": 1,
   "metadata": {},
   "outputs": [],
   "source": [
    "# Importando as Bibliotecas\n",
    "import pandas as pd\n",
    "import json\n",
    "import pymongo\n",
    "import yaml"
   ]
  },
  {
   "cell_type": "code",
   "execution_count": 3,
   "metadata": {},
   "outputs": [],
   "source": [
    "# Carrega Configurações do arquivo config\n",
    "with open(\"../config.yaml\", \"r\") as ymlfile:\n",
    "    cfg = yaml.full_load(ymlfile)\n",
    "\n",
    "user = cfg[\"mongodb\"][\"user\"]\n",
    "passwd = cfg[\"mongodb\"][\"passwd\"]\n",
    "host = cfg[\"mongodb\"][\"host\"]\n",
    "dbmongo = cfg[\"mongodb\"][\"db\"]"
   ]
  },
  {
   "cell_type": "code",
   "execution_count": 4,
   "metadata": {},
   "outputs": [],
   "source": [
    "# Cria Conexão com banco\n",
    "url_conexao = \"mongodb+srv://\" + user + \":\" + passwd + \"@\" + host + \"/?retryWrites=true&w=majority\"\n",
    "client = pymongo.MongoClient(url_conexao)\n",
    "db = client[dbmongo]\n"
   ]
  },
  {
   "cell_type": "code",
   "execution_count": 5,
   "metadata": {},
   "outputs": [],
   "source": [
    "# Coleções Mongo\n",
    "col_processos = db['processo']\n",
    "col_decisoes = db['decisoes']"
   ]
  },
  {
   "cell_type": "code",
   "execution_count": 6,
   "metadata": {},
   "outputs": [
    {
     "data": {
      "text/plain": [
       "(48204, 8)"
      ]
     },
     "execution_count": 6,
     "metadata": {},
     "output_type": "execute_result"
    }
   ],
   "source": [
    "#df = pd.DataFrame.from_records(processos,index=['nro_processo','link_processo','nome_parte'])\n",
    "dados = pd.DataFrame(list(col_processos.find({})))\n",
    "df_processos = pd.json_normalize(dados['processo'])\n",
    "df_processos.shape"
   ]
  },
  {
   "cell_type": "code",
   "execution_count": 7,
   "metadata": {},
   "outputs": [
    {
     "data": {
      "text/plain": [
       "cod_empresa\n",
       "ALLIANZ         4315\n",
       "AZUL            5682\n",
       "EMS               91\n",
       "GOL             4195\n",
       "MAPFRE          5281\n",
       "MLUIZA          1775\n",
       "N/I               38\n",
       "PORTOSEGURO    14436\n",
       "SULAMERICA      3317\n",
       "TAM             6239\n",
       "TOKIOMARINE     2832\n",
       "Name: nro_processo, dtype: int64"
      ]
     },
     "execution_count": 7,
     "metadata": {},
     "output_type": "execute_result"
    }
   ],
   "source": [
    "# Processos por empresa\n",
    "df_processos.groupby('cod_empresa')['nro_processo'].count()"
   ]
  },
  {
   "cell_type": "markdown",
   "metadata": {},
   "source": [
    "# Decisões"
   ]
  },
  {
   "cell_type": "code",
   "execution_count": 8,
   "metadata": {},
   "outputs": [],
   "source": [
    "# Carrega base de decisões total\n",
    "dados_decisoes = pd.DataFrame(list(col_decisoes.find({})))\n",
    "df_decisoes = pd.json_normalize(dados_decisoes['decisao'])"
   ]
  },
  {
   "cell_type": "code",
   "execution_count": 10,
   "metadata": {},
   "outputs": [
    {
     "data": {
      "text/plain": [
       "(13850, 10)"
      ]
     },
     "execution_count": 10,
     "metadata": {},
     "output_type": "execute_result"
    }
   ],
   "source": [
    "df_decisoes.shape"
   ]
  },
  {
   "cell_type": "code",
   "execution_count": 55,
   "metadata": {},
   "outputs": [
    {
     "data": {
      "text/plain": [
       "3629"
      ]
     },
     "execution_count": 55,
     "metadata": {},
     "output_type": "execute_result"
    }
   ],
   "source": [
    "col_decisoes.count_documents({\"decisao.resultado\": {\"$exists\": False} })"
   ]
  },
  {
   "cell_type": "code",
   "execution_count": 90,
   "metadata": {},
   "outputs": [
    {
     "data": {
      "text/plain": [
       "10"
      ]
     },
     "execution_count": 90,
     "metadata": {},
     "output_type": "execute_result"
    }
   ],
   "source": [
    "col_decisoes.count_documents(\n",
    "    {'$and':[{'decisao.texto_decisao':\n",
    "    {'$regex':\"( EXTINTA a presente ação)\"}},\n",
    "    {\"decisao.resultado\": {\"$exists\": False} }]}\n",
    ")"
   ]
  },
  {
   "cell_type": "code",
   "execution_count": 89,
   "metadata": {},
   "outputs": [
    {
     "data": {
      "text/plain": [
       "{'_id': ObjectId('632d490fbb23267a64779f0c'),\n",
       " 'decisao': {'nro_processo': '1004112-02.2017.8.26.0001',\n",
       "  'classe': 'Execução de Título Extrajudicial',\n",
       "  'assunto': 'Fiança',\n",
       "  'magistrado': 'Fernanda de Carvalho Queiroz',\n",
       "  'comarca': 'SÃO PAULO',\n",
       "  'foro': 'Foro Regional I - Santana',\n",
       "  'vara': '4ª Vara Cível',\n",
       "  'data_disp': '22/05/2022',\n",
       "  'texto_decisao': 'TRIBUNAL DE JUSTIÇA DO ESTADO DE SÃO PAULO\\n\\nCOMARCA de SÃO PAULO\\n\\n4ª Vara Cível\\n\\nAvenida Engenheiro Caetano Álvares,  594, 2º andar, salas 202 e 204, Casa  Verde - CEP 02546-000, Fone: (11)-3951-2525, São Paulo-SP - E-mail: santana4cv@tjsp.jus.br\\n\\n\\n\\nAutos nº 1004112-02.2017.8.26.0001 - p. \\n\\nSENTENÇA\\n\\n\\n\\nAção:\\n\\n1004112-02.2017.8.26.0001 - Execução de Título Extrajudicial\\n\\nExequente:\\n\\nPorto Seguro Companhia de Seguros Gerais\\n\\nExecutado:\\n\\nRosileine Inacio Alves\\n\\n\\n\\n\\n\\nVistos.\\n\\nF. 387 - Comprovou-se a integral satisfação do crédito exequendo.\\n\\nPosto isso, declaro EXTINTA a presente ação com fulcro no artigo 924, II, do Código de Processo Civil.\\n\\nPagas as custas (1% - nos termos do artigo 4º, III, da Lei Estadual nº 11.608/2003), excetuando a hipótese de ter sido deferida a gratuidade processual, dê-se baixa no Distribuidor e arquivem-se os autos. Do contrário, expeça-se certidão para inscrição na dívida ativa.\\n\\nA declaração do credor quanto a satisfação de seu crédito é incompatível com o interesse recursal. \\n\\nNão havendo interesse recursal, a sentença TRANSITOU EM JULGADO nesta data, ficando dispensada a expedição de certidão.\\n\\nExpeça-se em favor do perito judicial, mandado de levantamento eletrônico referente à quantia depositada nos autos, a título de honorários, às f.  374/375, no valor de R$5.150,00, com seus acréscimos legais. \\n\\nOportunamente a Serventia irá intimar a parte a ser beneficiada pelo mandado de levantamento judicial (via ato ordinatório) para ciência de sua expedição.\\n\\nApós, arquivem-se os autos.\\n\\nP.R.I.C.\\n\\nSão Paulo, 20 de maio de 2022�.\\n\\nJuíza de Direito - Dra. FERNANDA DE CARVALHO QUEIROZ  \\n\\nDocumento assinado digitalmente nos termos da lei 11.419/2006, conforme impressão à margem direita',\n",
       "  'instancia': '1ª Instância'}}"
      ]
     },
     "execution_count": 89,
     "metadata": {},
     "output_type": "execute_result"
    }
   ],
   "source": [
    "col_decisoes.find_one(\n",
    "    {'$and':[\n",
    "        {'decisao.texto_decisao': {'$regex':\"(  )\"}},\n",
    "        {'decisao.texto_decisao': {'$regex':\"( EXTINT)\"}},\n",
    "        {\"decisao.resultado\": {\"$exists\": False} },\n",
    "        {\"decisao.nro_processo\": {\"$ne\": '1012201-38.2022.8.26.0001'} }]}\n",
    ")\n"
   ]
  },
  {
   "cell_type": "markdown",
   "metadata": {},
   "source": [
    "### Tags \"Parcialmente Procedente\" "
   ]
  },
  {
   "cell_type": "code",
   "execution_count": 31,
   "metadata": {},
   "outputs": [
    {
     "data": {
      "text/plain": [
       "<pymongo.results.UpdateResult at 0x258beee7e80>"
      ]
     },
     "execution_count": 31,
     "metadata": {},
     "output_type": "execute_result"
    }
   ],
   "source": [
    "col_decisoes.update_many(\n",
    "    {'$and': [\n",
    "        {'decisao.texto_decisao':{'$regex':\"( PARCIALMENTE PROCEDENTE)\"}},\n",
    "        {\"decisao.resultado\": {\"$exists\": False}}\n",
    "    ]},\n",
    "    {'$set':{'decisao.resultado':'Parcialmente Procedente'}}\n",
    ")\n",
    "\n",
    "\n",
    "col_decisoes.update_many(\n",
    "    {'$and': [\n",
    "        {'decisao.texto_decisao':{'$regex':\"( Parcialmente Procedente)\"}},\n",
    "        {\"decisao.resultado\": {\"$exists\": False}}\n",
    "    ]},\n",
    "    {'$set':{'decisao.resultado':'Parcialmente Procedente'}}\n",
    ")"
   ]
  },
  {
   "cell_type": "markdown",
   "metadata": {},
   "source": [
    "### \"Tag Improcedente\""
   ]
  },
  {
   "cell_type": "code",
   "execution_count": 52,
   "metadata": {},
   "outputs": [
    {
     "data": {
      "text/plain": [
       "<pymongo.results.UpdateResult at 0x258af0a0760>"
      ]
     },
     "execution_count": 52,
     "metadata": {},
     "output_type": "execute_result"
    }
   ],
   "source": [
    "col_decisoes.update_many(\n",
    "    {'$and': [\n",
    "        {'decisao.texto_decisao':{'$regex':\"( IMPROCEDENTE)\"}},\n",
    "        {\"decisao.resultado\": {\"$exists\": False}}\n",
    "    ]},\n",
    "    {'$set':{'decisao.resultado':'Improcedente'}}\n",
    ")\n",
    "\n",
    "col_decisoes.update_many(\n",
    "    {'$and': [\n",
    "        {'decisao.texto_decisao':{'$regex':\"( IMPPROCEDENTE)\"}},\n",
    "        {\"decisao.resultado\": {\"$exists\": False}}\n",
    "    ]},\n",
    "    {'$set':{'decisao.resultado':'Improcedente'}}\n",
    ")\n",
    "\n",
    "col_decisoes.update_many(\n",
    "    {'$and': [\n",
    "        {'decisao.texto_decisao':{'$regex':\"( Improcedente)\"}},\n",
    "        {\"decisao.resultado\": {\"$exists\": False}}\n",
    "    ]},\n",
    "    {'$set':{'decisao.resultado':'Improcedente'}}\n",
    ")"
   ]
  },
  {
   "cell_type": "code",
   "execution_count": 54,
   "metadata": {},
   "outputs": [
    {
     "data": {
      "text/plain": [
       "<pymongo.results.UpdateResult at 0x258bef26bf0>"
      ]
     },
     "execution_count": 54,
     "metadata": {},
     "output_type": "execute_result"
    }
   ],
   "source": [
    "col_decisoes.update_many(\n",
    "    {'$and': [\n",
    "        {'decisao.texto_decisao':{'$regex':\"( improcedente)\"}},\n",
    "        {\"decisao.resultado\": {\"$exists\": False}}\n",
    "    ]},\n",
    "    {'$set':{'decisao.resultado':'Improcedente'}}\n",
    ")"
   ]
  },
  {
   "cell_type": "markdown",
   "metadata": {},
   "source": [
    "### Tag \"Procedente\""
   ]
  },
  {
   "cell_type": "code",
   "execution_count": 49,
   "metadata": {},
   "outputs": [
    {
     "data": {
      "text/plain": [
       "<pymongo.results.UpdateResult at 0x258bef26e30>"
      ]
     },
     "execution_count": 49,
     "metadata": {},
     "output_type": "execute_result"
    }
   ],
   "source": [
    "col_decisoes.update_many(\n",
    "    {'$and': [\n",
    "        {'decisao.texto_decisao':{'$regex':\"( PROCEDENTE)\"}},\n",
    "        {\"decisao.resultado\": {\"$exists\": False}}\n",
    "    ]},\n",
    "    {'$set':{'decisao.resultado':'Procedente'}}\n",
    ")"
   ]
  },
  {
   "cell_type": "code",
   "execution_count": 50,
   "metadata": {},
   "outputs": [
    {
     "data": {
      "text/plain": [
       "<pymongo.results.UpdateResult at 0x258bef254e0>"
      ]
     },
     "execution_count": 50,
     "metadata": {},
     "output_type": "execute_result"
    }
   ],
   "source": [
    "col_decisoes.update_many(\n",
    "    {'$and': [\n",
    "        {'decisao.texto_decisao':{'$regex':\"( Procedente)\"}},\n",
    "        {\"decisao.resultado\": {\"$exists\": False}}\n",
    "    ]},\n",
    "    {'$set':{'decisao.resultado':'Procedente'}}\n",
    ")"
   ]
  },
  {
   "cell_type": "code",
   "execution_count": null,
   "metadata": {},
   "outputs": [],
   "source": [
    "col_decisoes.update_many(\n",
    "    {'$and': [\n",
    "        {'decisao.texto_decisao':{'$regex':\"( PROCEDENTE)\"}},\n",
    "        {\"decisao.resultado\": {\"$exists\": False}}\n",
    "    ]},\n",
    "    {'$set':{'decisao.resultado':'Procedente'}}\n",
    ")"
   ]
  },
  {
   "cell_type": "markdown",
   "metadata": {},
   "source": [
    "### Acordo"
   ]
  },
  {
   "cell_type": "code",
   "execution_count": 60,
   "metadata": {},
   "outputs": [
    {
     "data": {
      "text/plain": [
       "<pymongo.results.UpdateResult at 0x258bef261d0>"
      ]
     },
     "execution_count": 60,
     "metadata": {},
     "output_type": "execute_result"
    }
   ],
   "source": [
    "col_decisoes.update_many(\n",
    "    {'$and': [\n",
    "        {'decisao.texto_decisao':{'$regex':\"( acordo celebrado entre as partes )\"}},\n",
    "        {\"decisao.resultado\": {\"$exists\": False}}\n",
    "    ]},\n",
    "    {'$set':{'decisao.resultado':'Acordo'}}\n",
    ")"
   ]
  },
  {
   "cell_type": "code",
   "execution_count": 63,
   "metadata": {},
   "outputs": [
    {
     "data": {
      "text/plain": [
       "<pymongo.results.UpdateResult at 0x258bef26b30>"
      ]
     },
     "execution_count": 63,
     "metadata": {},
     "output_type": "execute_result"
    }
   ],
   "source": [
    "col_decisoes.update_many(\n",
    "    {'$and': [\n",
    "        {'decisao.texto_decisao':{'$regex':\"( acordo que chegaram as partes )\"}},\n",
    "        {\"decisao.resultado\": {\"$exists\": False}}\n",
    "    ]},\n",
    "    {'$set':{'decisao.resultado':'Acordo'}}\n",
    ")"
   ]
  },
  {
   "cell_type": "code",
   "execution_count": 68,
   "metadata": {},
   "outputs": [
    {
     "data": {
      "text/plain": [
       "<pymongo.results.UpdateResult at 0x258bef26dd0>"
      ]
     },
     "execution_count": 68,
     "metadata": {},
     "output_type": "execute_result"
    }
   ],
   "source": [
    "col_decisoes.update_many(\n",
    "    {'$and': [\n",
    "        {'decisao.texto_decisao':{'$regex':\"( acordo a que chegaram as partes)\"}},\n",
    "        {\"decisao.resultado\": {\"$exists\": False}}\n",
    "    ]},\n",
    "    {'$set':{'decisao.resultado':'Acordo'}}\n",
    ")"
   ]
  },
  {
   "cell_type": "code",
   "execution_count": null,
   "metadata": {},
   "outputs": [],
   "source": [
    "#o acordo ora celebrado entre as partes\n",
    "col_decisoes.update_many(\n",
    "    {'$and': [\n",
    "        {'decisao.texto_decisao':{'$regex':\"( acordo a que chegaram as partes)\"}},\n",
    "        {\"decisao.resultado\": {\"$exists\": False}}\n",
    "    ]},\n",
    "    {'$set':{'decisao.resultado':'Acordo'}}\n",
    ")"
   ]
  },
  {
   "cell_type": "code",
   "execution_count": 79,
   "metadata": {},
   "outputs": [
    {
     "data": {
      "text/plain": [
       "<pymongo.results.UpdateResult at 0x258bef27670>"
      ]
     },
     "execution_count": 79,
     "metadata": {},
     "output_type": "execute_result"
    }
   ],
   "source": [
    "col_decisoes.update_many(\n",
    "    {'$and':[\n",
    "        {'decisao.texto_decisao': {'$regex':\"( HOMOLOGO )\"}},\n",
    "        {'decisao.texto_decisao': {'$regex':\"( JULGO EXTINTO )\"}},\n",
    "        {\"decisao.resultado\": {\"$exists\": False} }]},\n",
    "    {'$set':{'decisao.resultado':'Acordo'}}\n",
    ")"
   ]
  },
  {
   "cell_type": "markdown",
   "metadata": {},
   "source": [
    "### Extinto"
   ]
  },
  {
   "cell_type": "code",
   "execution_count": 88,
   "metadata": {},
   "outputs": [
    {
     "data": {
      "text/plain": [
       "<pymongo.results.UpdateResult at 0x258bef27880>"
      ]
     },
     "execution_count": 88,
     "metadata": {},
     "output_type": "execute_result"
    }
   ],
   "source": [
    "col_decisoes.update_many(\n",
    "    {'$and':[\n",
    "        {'decisao.texto_decisao': {'$regex':\"( JULGO EXTINT)\"}},\n",
    "        {\"decisao.resultado\": {\"$exists\": False} }]},\n",
    "    {'$set':{'decisao.resultado':'Extinto'}}\n",
    ")"
   ]
  },
  {
   "cell_type": "code",
   "execution_count": 91,
   "metadata": {},
   "outputs": [
    {
     "data": {
      "text/plain": [
       "<pymongo.results.UpdateResult at 0x258bef25e70>"
      ]
     },
     "execution_count": 91,
     "metadata": {},
     "output_type": "execute_result"
    }
   ],
   "source": [
    "col_decisoes.update_many(\n",
    "    {'$and':[\n",
    "        {'decisao.texto_decisao': {'$regex':\"( EXTINTA a presente ação)\"}},\n",
    "        {\"decisao.resultado\": {\"$exists\": False} }]},\n",
    "    {'$set':{'decisao.resultado':'Extinto'}}\n",
    ")"
   ]
  }
 ],
 "metadata": {
  "kernelspec": {
   "display_name": "Python 3.10.7 64-bit",
   "language": "python",
   "name": "python3"
  },
  "language_info": {
   "codemirror_mode": {
    "name": "ipython",
    "version": 3
   },
   "file_extension": ".py",
   "mimetype": "text/x-python",
   "name": "python",
   "nbconvert_exporter": "python",
   "pygments_lexer": "ipython3",
   "version": "3.10.7"
  },
  "orig_nbformat": 4,
  "vscode": {
   "interpreter": {
    "hash": "26de051ba29f2982a8de78e945f0abaf191376122a1563185a90213a26c5da77"
   }
  }
 },
 "nbformat": 4,
 "nbformat_minor": 2
}
