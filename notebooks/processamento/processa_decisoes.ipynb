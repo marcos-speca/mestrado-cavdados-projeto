{
 "cells": [
  {
   "cell_type": "markdown",
   "metadata": {},
   "source": [
    "### Processa Decisões\n",
    "1. Identifica o resultado (Improcedente, Procedente ou Procedente em Parte)\n",
    "2. Atualiza os processos com as infos da decisão (Data, Resultado e Juiz)\n"
   ]
  },
  {
   "cell_type": "code",
   "execution_count": null,
   "metadata": {},
   "outputs": [],
   "source": [
    "# Importando as Bibliotecas\n",
    "import pandas as pd\n",
    "import json\n",
    "import pymongo\n",
    "import yaml"
   ]
  },
  {
   "cell_type": "code",
   "execution_count": null,
   "metadata": {},
   "outputs": [],
   "source": [
    "# Carrega Configurações do arquivo config\n",
    "with open(\"../config.yaml\", \"r\") as ymlfile:\n",
    "    cfg = yaml.full_load(ymlfile)\n",
    "\n",
    "user = cfg[\"mongodb\"][\"user\"]\n",
    "passwd = cfg[\"mongodb\"][\"passwd\"]\n",
    "host = cfg[\"mongodb\"][\"host\"]\n",
    "dbmongo = cfg[\"mongodb\"][\"db\"]"
   ]
  },
  {
   "cell_type": "code",
   "execution_count": null,
   "metadata": {},
   "outputs": [],
   "source": [
    "# Cria Conexão com banco\n",
    "url_conexao = \"mongodb+srv://\" + user + \":\" + passwd + \"@\" + host + \"/?retryWrites=true&w=majority\"\n",
    "client = pymongo.MongoClient(url_conexao)\n",
    "db = client[dbmongo]\n"
   ]
  },
  {
   "cell_type": "code",
   "execution_count": null,
   "metadata": {},
   "outputs": [],
   "source": [
    "# Coleções Mongo\n",
    "col_decisoes = db['decisoes']"
   ]
  },
  {
   "cell_type": "markdown",
   "metadata": {},
   "source": [
    "# Decisões"
   ]
  },
  {
   "cell_type": "code",
   "execution_count": null,
   "metadata": {},
   "outputs": [],
   "source": [
    "# Carrega base de decisões total\n",
    "dados_decisoes = pd.DataFrame(list(col_decisoes.find({})))\n",
    "df_decisoes = pd.json_normalize(dados_decisoes['decisao'])\n",
    "df_decisoes.shape"
   ]
  },
  {
   "cell_type": "code",
   "execution_count": null,
   "metadata": {},
   "outputs": [],
   "source": [
    "# Quantas decisões sem \"resultado\"\n",
    "col_decisoes.count_documents({\"decisao.resultado\": {\"$exists\": False} })"
   ]
  },
  {
   "cell_type": "markdown",
   "metadata": {},
   "source": [
    "### Tags \"Parcialmente Procedente\" "
   ]
  },
  {
   "cell_type": "code",
   "execution_count": null,
   "metadata": {},
   "outputs": [],
   "source": [
    "col_decisoes.update_many(\n",
    "    {'$and': [\n",
    "        {'decisao.texto_decisao':{'$regex':\"( PARCIALMENTE PROCEDENTE)\"}},\n",
    "        {\"decisao.resultado\": {\"$exists\": False}}\n",
    "    ]},\n",
    "    {'$set':{'decisao.resultado':'Parcialmente Procedente'}}\n",
    ")\n",
    "\n",
    "\n",
    "col_decisoes.update_many(\n",
    "    {'$and': [\n",
    "        {'decisao.texto_decisao':{'$regex':\"( Parcialmente Procedente)\"}},\n",
    "        {\"decisao.resultado\": {\"$exists\": False}}\n",
    "    ]},\n",
    "    {'$set':{'decisao.resultado':'Parcialmente Procedente'}}\n",
    ")"
   ]
  },
  {
   "cell_type": "markdown",
   "metadata": {},
   "source": [
    "### \"Tag Improcedente\""
   ]
  },
  {
   "cell_type": "code",
   "execution_count": null,
   "metadata": {},
   "outputs": [],
   "source": [
    "col_decisoes.update_many(\n",
    "    {'$and': [\n",
    "        {'decisao.texto_decisao':{'$regex':\"( IMPROCEDENTE)\"}},\n",
    "        {\"decisao.resultado\": {\"$exists\": False}}\n",
    "    ]},\n",
    "    {'$set':{'decisao.resultado':'Improcedente'}}\n",
    ")\n",
    "\n",
    "col_decisoes.update_many(\n",
    "    {'$and': [\n",
    "        {'decisao.texto_decisao':{'$regex':\"( IMPPROCEDENTE)\"}},\n",
    "        {\"decisao.resultado\": {\"$exists\": False}}\n",
    "    ]},\n",
    "    {'$set':{'decisao.resultado':'Improcedente'}}\n",
    ")\n",
    "\n",
    "col_decisoes.update_many(\n",
    "    {'$and': [\n",
    "        {'decisao.texto_decisao':{'$regex':\"( Improcedente)\"}},\n",
    "        {\"decisao.resultado\": {\"$exists\": False}}\n",
    "    ]},\n",
    "    {'$set':{'decisao.resultado':'Improcedente'}}\n",
    ")"
   ]
  },
  {
   "cell_type": "code",
   "execution_count": null,
   "metadata": {},
   "outputs": [],
   "source": [
    "col_decisoes.update_many(\n",
    "    {'$and': [\n",
    "        {'decisao.texto_decisao':{'$regex':\"( improcedente)\"}},\n",
    "        {\"decisao.resultado\": {\"$exists\": False}}\n",
    "    ]},\n",
    "    {'$set':{'decisao.resultado':'Improcedente'}}\n",
    ")"
   ]
  },
  {
   "cell_type": "markdown",
   "metadata": {},
   "source": [
    "### Tag \"Procedente\""
   ]
  },
  {
   "cell_type": "code",
   "execution_count": null,
   "metadata": {},
   "outputs": [],
   "source": [
    "col_decisoes.update_many(\n",
    "    {'$and': [\n",
    "        {'decisao.texto_decisao':{'$regex':\"( PROCEDENTE)\"}},\n",
    "        {\"decisao.resultado\": {\"$exists\": False}}\n",
    "    ]},\n",
    "    {'$set':{'decisao.resultado':'Procedente'}}\n",
    ")"
   ]
  },
  {
   "cell_type": "code",
   "execution_count": null,
   "metadata": {},
   "outputs": [],
   "source": [
    "col_decisoes.update_many(\n",
    "    {'$and': [\n",
    "        {'decisao.texto_decisao':{'$regex':\"( Procedente)\"}},\n",
    "        {\"decisao.resultado\": {\"$exists\": False}}\n",
    "    ]},\n",
    "    {'$set':{'decisao.resultado':'Procedente'}}\n",
    ")"
   ]
  },
  {
   "cell_type": "code",
   "execution_count": null,
   "metadata": {},
   "outputs": [],
   "source": [
    "col_decisoes.update_many(\n",
    "    {'$and': [\n",
    "        {'decisao.texto_decisao':{'$regex':\"( PROCEDENTE)\"}},\n",
    "        {\"decisao.resultado\": {\"$exists\": False}}\n",
    "    ]},\n",
    "    {'$set':{'decisao.resultado':'Procedente'}}\n",
    ")"
   ]
  },
  {
   "cell_type": "markdown",
   "metadata": {},
   "source": [
    "### Acordo"
   ]
  },
  {
   "cell_type": "code",
   "execution_count": null,
   "metadata": {},
   "outputs": [],
   "source": [
    "col_decisoes.update_many(\n",
    "    {'$and': [\n",
    "        {'decisao.texto_decisao':{'$regex':\"( acordo celebrado entre as partes )\"}},\n",
    "        {\"decisao.resultado\": {\"$exists\": False}}\n",
    "    ]},\n",
    "    {'$set':{'decisao.resultado':'Acordo'}}\n",
    ")"
   ]
  },
  {
   "cell_type": "code",
   "execution_count": null,
   "metadata": {},
   "outputs": [],
   "source": [
    "col_decisoes.update_many(\n",
    "    {'$and': [\n",
    "        {'decisao.texto_decisao':{'$regex':\"( acordo que chegaram as partes )\"}},\n",
    "        {\"decisao.resultado\": {\"$exists\": False}}\n",
    "    ]},\n",
    "    {'$set':{'decisao.resultado':'Acordo'}}\n",
    ")"
   ]
  },
  {
   "cell_type": "code",
   "execution_count": null,
   "metadata": {},
   "outputs": [],
   "source": [
    "col_decisoes.update_many(\n",
    "    {'$and': [\n",
    "        {'decisao.texto_decisao':{'$regex':\"( acordo a que chegaram as partes)\"}},\n",
    "        {\"decisao.resultado\": {\"$exists\": False}}\n",
    "    ]},\n",
    "    {'$set':{'decisao.resultado':'Acordo'}}\n",
    ")"
   ]
  },
  {
   "cell_type": "code",
   "execution_count": null,
   "metadata": {},
   "outputs": [],
   "source": [
    "#o acordo ora celebrado entre as partes\n",
    "col_decisoes.update_many(\n",
    "    {'$and': [\n",
    "        {'decisao.texto_decisao':{'$regex':\"( acordo a que chegaram as partes)\"}},\n",
    "        {\"decisao.resultado\": {\"$exists\": False}}\n",
    "    ]},\n",
    "    {'$set':{'decisao.resultado':'Acordo'}}\n",
    ")"
   ]
  },
  {
   "cell_type": "code",
   "execution_count": null,
   "metadata": {},
   "outputs": [],
   "source": [
    "col_decisoes.update_many(\n",
    "    {'$and':[\n",
    "        {'decisao.texto_decisao': {'$regex':\"( HOMOLOGO )\"}},\n",
    "        {'decisao.texto_decisao': {'$regex':\"( JULGO EXTINTO )\"}},\n",
    "        {\"decisao.resultado\": {\"$exists\": False} }]},\n",
    "    {'$set':{'decisao.resultado':'Acordo'}}\n",
    ")"
   ]
  },
  {
   "cell_type": "markdown",
   "metadata": {},
   "source": [
    "### Extinto"
   ]
  },
  {
   "cell_type": "code",
   "execution_count": null,
   "metadata": {},
   "outputs": [],
   "source": [
    "col_decisoes.update_many(\n",
    "    {'$and':[\n",
    "        {'decisao.texto_decisao': {'$regex':\"( JULGO EXTINT)\"}},\n",
    "        {\"decisao.resultado\": {\"$exists\": False} }]},\n",
    "    {'$set':{'decisao.resultado':'Extinto'}}\n",
    ")"
   ]
  },
  {
   "cell_type": "code",
   "execution_count": null,
   "metadata": {},
   "outputs": [],
   "source": [
    "col_decisoes.update_many(\n",
    "    {'$and':[\n",
    "        {'decisao.texto_decisao': {'$regex':\"( EXTINTA a presente ação)\"}},\n",
    "        {\"decisao.resultado\": {\"$exists\": False} }]},\n",
    "    {'$set':{'decisao.resultado':'Extinto'}}\n",
    ")"
   ]
  }
 ],
 "metadata": {
  "kernelspec": {
   "display_name": "Python 3.10.7 64-bit",
   "language": "python",
   "name": "python3"
  },
  "language_info": {
   "codemirror_mode": {
    "name": "ipython",
    "version": 3
   },
   "file_extension": ".py",
   "mimetype": "text/x-python",
   "name": "python",
   "nbconvert_exporter": "python",
   "pygments_lexer": "ipython3",
   "version": "3.10.7"
  },
  "orig_nbformat": 4,
  "vscode": {
   "interpreter": {
    "hash": "26de051ba29f2982a8de78e945f0abaf191376122a1563185a90213a26c5da77"
   }
  }
 },
 "nbformat": 4,
 "nbformat_minor": 2
}
