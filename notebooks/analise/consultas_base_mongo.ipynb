{
 "cells": [
  {
   "cell_type": "markdown",
   "metadata": {},
   "source": [
    "### Queries na base de dados Mongo\n"
   ]
  },
  {
   "cell_type": "code",
   "execution_count": 1,
   "metadata": {},
   "outputs": [],
   "source": [
    "# Importando as Bibliotecas\n",
    "import pandas as pd\n",
    "import json\n",
    "import pymongo\n",
    "import yaml"
   ]
  },
  {
   "cell_type": "code",
   "execution_count": 2,
   "metadata": {},
   "outputs": [],
   "source": [
    "# Carrega Configurações do arquivo config\n",
    "with open(\"../config.yaml\", \"r\") as ymlfile:\n",
    "    cfg = yaml.full_load(ymlfile)\n",
    "\n",
    "user = cfg[\"mongodb\"][\"user\"]\n",
    "passwd = cfg[\"mongodb\"][\"passwd\"]\n",
    "host = cfg[\"mongodb\"][\"host\"]\n",
    "dbmongo = cfg[\"mongodb\"][\"db\"]"
   ]
  },
  {
   "cell_type": "code",
   "execution_count": 3,
   "metadata": {},
   "outputs": [],
   "source": [
    "# Cria Conexão com banco\n",
    "url_conexao = \"mongodb+srv://\" + user + \":\" + passwd + \"@\" + host + \"/?retryWrites=true&w=majority\"\n",
    "client = pymongo.MongoClient(url_conexao)\n",
    "db = client[dbmongo]\n"
   ]
  },
  {
   "cell_type": "code",
   "execution_count": 4,
   "metadata": {},
   "outputs": [],
   "source": [
    "# Coleções Mongo\n",
    "col_processos = db['processo']\n",
    "col_decisoes = db['decisoes']"
   ]
  },
  {
   "cell_type": "code",
   "execution_count": 5,
   "metadata": {},
   "outputs": [
    {
     "data": {
      "text/plain": [
       "(48204, 8)"
      ]
     },
     "execution_count": 5,
     "metadata": {},
     "output_type": "execute_result"
    }
   ],
   "source": [
    "#df = pd.DataFrame.from_records(processos,index=['nro_processo','link_processo','nome_parte'])\n",
    "dados = pd.DataFrame(list(col_processos.find({})))\n",
    "df_processos = pd.json_normalize(dados['processo'])\n",
    "df_processos.shape"
   ]
  },
  {
   "cell_type": "code",
   "execution_count": 6,
   "metadata": {},
   "outputs": [
    {
     "data": {
      "text/plain": [
       "cod_empresa\n",
       "ALLIANZ         4315\n",
       "AZUL            5682\n",
       "EMS               91\n",
       "GOL             4195\n",
       "MAPFRE          5281\n",
       "MLUIZA          1775\n",
       "N/I               38\n",
       "PORTOSEGURO    14436\n",
       "SULAMERICA      3317\n",
       "TAM             6239\n",
       "TOKIOMARINE     2832\n",
       "Name: nro_processo, dtype: int64"
      ]
     },
     "execution_count": 6,
     "metadata": {},
     "output_type": "execute_result"
    }
   ],
   "source": [
    "# Processos por empresa\n",
    "df_processos.groupby('cod_empresa')['nro_processo'].count()"
   ]
  },
  {
   "cell_type": "markdown",
   "metadata": {},
   "source": [
    "# Decisões"
   ]
  },
  {
   "cell_type": "code",
   "execution_count": 7,
   "metadata": {},
   "outputs": [],
   "source": [
    "# Carrega base de decisões total\n",
    "dados_decisoes = pd.DataFrame(list(col_decisoes.find({})))\n",
    "df_decisoes = pd.json_normalize(dados_decisoes['decisao'])"
   ]
  },
  {
   "cell_type": "code",
   "execution_count": 8,
   "metadata": {},
   "outputs": [
    {
     "data": {
      "text/plain": [
       "(13850, 10)"
      ]
     },
     "execution_count": 8,
     "metadata": {},
     "output_type": "execute_result"
    }
   ],
   "source": [
    "df_decisoes.shape"
   ]
  },
  {
   "cell_type": "code",
   "execution_count": 20,
   "metadata": {},
   "outputs": [
    {
     "data": {
      "text/plain": [
       "871"
      ]
     },
     "execution_count": 20,
     "metadata": {},
     "output_type": "execute_result"
    }
   ],
   "source": [
    "col_decisoes.count_documents({'decisao.texto_decisao':{'$regex':\"( JULGO PARCIALMENTE PROCEDENTE)\"}})"
   ]
  },
  {
   "cell_type": "code",
   "execution_count": null,
   "metadata": {},
   "outputs": [],
   "source": [
    "decisao = col_decisoes.find_one({'decisao.texto_decisao':{'$regex':\"( JULGO PARCIALMENTE PROCEDENTE)\"}})\n",
    "decisao['decisao']"
   ]
  },
  {
   "cell_type": "code",
   "execution_count": null,
   "metadata": {},
   "outputs": [],
   "source": [
    "# Decisões por Magistrado\n",
    "df_qtdedecisoes = pd.DataFrame({\"decisoes\" : df_decisoes.groupby('magistrado').size()}).reset_index()\n",
    "df_qtdedecisoes.sort_values(by=\"decisoes\",ascending=False)"
   ]
  }
 ],
 "metadata": {
  "kernelspec": {
   "display_name": "Python 3.10.7 64-bit",
   "language": "python",
   "name": "python3"
  },
  "language_info": {
   "codemirror_mode": {
    "name": "ipython",
    "version": 3
   },
   "file_extension": ".py",
   "mimetype": "text/x-python",
   "name": "python",
   "nbconvert_exporter": "python",
   "pygments_lexer": "ipython3",
   "version": "3.10.7"
  },
  "orig_nbformat": 4,
  "vscode": {
   "interpreter": {
    "hash": "26de051ba29f2982a8de78e945f0abaf191376122a1563185a90213a26c5da77"
   }
  }
 },
 "nbformat": 4,
 "nbformat_minor": 2
}
