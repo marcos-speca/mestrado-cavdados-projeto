{
 "cells": [
  {
   "cell_type": "markdown",
   "metadata": {},
   "source": [
    "### Queries na base de dados Mongo\n"
   ]
  },
  {
   "cell_type": "code",
   "execution_count": null,
   "metadata": {},
   "outputs": [],
   "source": [
    "# Importando as Bibliotecas\n",
    "import pandas as pd\n",
    "import json\n",
    "import pymongo\n",
    "import yaml"
   ]
  },
  {
   "cell_type": "code",
   "execution_count": null,
   "metadata": {},
   "outputs": [],
   "source": [
    "# Carrega Configurações do arquivo config\n",
    "with open(\"../config.yaml\", \"r\") as ymlfile:\n",
    "    cfg = yaml.full_load(ymlfile)\n",
    "\n",
    "user = cfg[\"mongodb\"][\"user\"]\n",
    "passwd = cfg[\"mongodb\"][\"passwd\"]\n",
    "host = cfg[\"mongodb\"][\"host\"]\n",
    "dbmongo = cfg[\"mongodb\"][\"db\"]"
   ]
  },
  {
   "cell_type": "code",
   "execution_count": null,
   "metadata": {},
   "outputs": [],
   "source": [
    "user_posgres = cfg[\"postgres\"][\"user\"]\n",
    "passwd_posgres = cfg[\"postgres\"][\"passwd\"]\n",
    "host_posgres = cfg[\"postgres\"][\"host\"]\n",
    "dbmongo_posgres = cfg[\"postgres\"][\"db\"]"
   ]
  },
  {
   "cell_type": "code",
   "execution_count": null,
   "metadata": {},
   "outputs": [],
   "source": [
    "host_posgres"
   ]
  },
  {
   "cell_type": "code",
   "execution_count": null,
   "metadata": {},
   "outputs": [],
   "source": [
    "# Cria Conexão com banco\n",
    "url_conexao = \"mongodb+srv://\" + user + \":\" + passwd + \"@\" + host + \"/?retryWrites=true&w=majority\"\n",
    "client = pymongo.MongoClient(url_conexao)\n",
    "db = client[dbmongo]\n"
   ]
  },
  {
   "cell_type": "code",
   "execution_count": null,
   "metadata": {},
   "outputs": [],
   "source": [
    "# Coleções Mongo\n",
    "col_processos = db['processo']\n",
    "col_decisoes = db['decisoes']"
   ]
  },
  {
   "cell_type": "code",
   "execution_count": null,
   "metadata": {},
   "outputs": [],
   "source": [
    "col_processos.count_documents({})"
   ]
  },
  {
   "cell_type": "code",
   "execution_count": null,
   "metadata": {},
   "outputs": [],
   "source": [
    "#df = pd.DataFrame.from_records(processos,index=['nro_processo','link_processo','nome_parte'])\n",
    "dados = pd.DataFrame(list(col_processos.find({})))\n",
    "df_processos = pd.json_normalize(dados['processo'])\n",
    "df_processos.shape"
   ]
  },
  {
   "cell_type": "code",
   "execution_count": null,
   "metadata": {},
   "outputs": [],
   "source": [
    "# Processos por empresa\n",
    "df_processos.groupby('cod_empresa')['nro_processo'].count()"
   ]
  },
  {
   "cell_type": "code",
   "execution_count": null,
   "metadata": {},
   "outputs": [],
   "source": [
    "df_processos.columns"
   ]
  },
  {
   "cell_type": "code",
   "execution_count": null,
   "metadata": {},
   "outputs": [],
   "source": [
    "from sqlalchemy import create_engine\n",
    "import psycopg2"
   ]
  },
  {
   "cell_type": "code",
   "execution_count": null,
   "metadata": {},
   "outputs": [],
   "source": [
    "conn_string_postgres = ''\n",
    "  \n",
    "db = create_engine(conn_string_postgres)\n",
    "conn = db.connect()"
   ]
  },
  {
   "cell_type": "code",
   "execution_count": null,
   "metadata": {},
   "outputs": [],
   "source": [
    "df_processos.to_sql('dw_processos', con=conn, if_exists='replace',index=False)"
   ]
  },
  {
   "cell_type": "markdown",
   "metadata": {},
   "source": [
    "# Decisões"
   ]
  },
  {
   "cell_type": "code",
   "execution_count": null,
   "metadata": {},
   "outputs": [],
   "source": [
    "# Carrega base de decisões total\n",
    "dados_decisoes = pd.DataFrame(list(col_decisoes.find({})))\n",
    "df_decisoes = pd.json_normalize(dados_decisoes['decisao'])"
   ]
  },
  {
   "cell_type": "code",
   "execution_count": null,
   "metadata": {},
   "outputs": [],
   "source": [
    "df_decisoes.shape"
   ]
  },
  {
   "cell_type": "code",
   "execution_count": null,
   "metadata": {},
   "outputs": [],
   "source": [
    "df_decisoes.to_sql('dw_decisoes', con=conn, if_exists='replace',index=False)"
   ]
  },
  {
   "cell_type": "code",
   "execution_count": null,
   "metadata": {},
   "outputs": [],
   "source": [
    "df_final = pd.merge(df_processos,df_decisoes,on=\"nro_processo\")"
   ]
  },
  {
   "cell_type": "code",
   "execution_count": null,
   "metadata": {},
   "outputs": [],
   "source": [
    "df_final.columns"
   ]
  },
  {
   "cell_type": "code",
   "execution_count": null,
   "metadata": {},
   "outputs": [],
   "source": [
    "df_final = df_final[['nro_processo', 'link_processo', 'nome_parte', 'classe_processo','assunto_processo', \n",
    "'data_local_distribuicao', 'cod_empresa','tipo_participacao', 'classe', 'assunto', 'magistrado', 'comarca',\n",
    "'foro', 'vara', 'data_disp', 'instancia', 'resultado']]"
   ]
  },
  {
   "cell_type": "code",
   "execution_count": null,
   "metadata": {},
   "outputs": [],
   "source": [
    "df_final['tribunal'] = 'TJSP'\n",
    "df_final['justica'] = 'Justiça Estadual'"
   ]
  },
  {
   "cell_type": "code",
   "execution_count": null,
   "metadata": {},
   "outputs": [],
   "source": []
  },
  {
   "cell_type": "code",
   "execution_count": null,
   "metadata": {},
   "outputs": [],
   "source": [
    "df_final.to_excel('../../dados/analiticos/base_processos.xlsx',sheet_name=\"DADOS\",index=False)"
   ]
  },
  {
   "cell_type": "code",
   "execution_count": null,
   "metadata": {},
   "outputs": [],
   "source": [
    "col_decisoes.count_documents({'decisao.texto_decisao':{'$regex':\"( JULGO PARCIALMENTE PROCEDENTE)\"}})"
   ]
  },
  {
   "cell_type": "code",
   "execution_count": null,
   "metadata": {},
   "outputs": [],
   "source": [
    "col_decisoes.update_many({'decisao.texto_decisao':{'$regex':\"( JULGO PARCIALMENTE PROCEDENTE)\"}},{'$set':{'resultado':'Parcialmente Procedente'}})"
   ]
  },
  {
   "cell_type": "code",
   "execution_count": null,
   "metadata": {},
   "outputs": [],
   "source": [
    "decisao = col_decisoes.find_one({'decisao.texto_decisao':{'$regex':\"( JULGO PARCIALMENTE PROCEDENTE)\"}})\n",
    "decisao['decisao']"
   ]
  },
  {
   "cell_type": "code",
   "execution_count": null,
   "metadata": {},
   "outputs": [],
   "source": [
    "# Decisões por Magistrado\n",
    "df_qtdedecisoes = pd.DataFrame({\"decisoes\" : df_decisoes.groupby('magistrado').size()}).reset_index()\n",
    "df_qtdedecisoes.sort_values(by=\"decisoes\",ascending=False)"
   ]
  }
 ],
 "metadata": {
  "kernelspec": {
   "display_name": "Python 3.10.7 64-bit",
   "language": "python",
   "name": "python3"
  },
  "language_info": {
   "codemirror_mode": {
    "name": "ipython",
    "version": 3
   },
   "file_extension": ".py",
   "mimetype": "text/x-python",
   "name": "python",
   "nbconvert_exporter": "python",
   "pygments_lexer": "ipython3",
   "version": "3.10.7"
  },
  "orig_nbformat": 4,
  "vscode": {
   "interpreter": {
    "hash": "26de051ba29f2982a8de78e945f0abaf191376122a1563185a90213a26c5da77"
   }
  }
 },
 "nbformat": 4,
 "nbformat_minor": 2
}
