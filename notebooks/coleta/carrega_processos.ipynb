{
 "cells": [
  {
   "cell_type": "markdown",
   "metadata": {},
   "source": [
    "### Carrega Processos Baixados do Tribunal no Banco\n",
    "\n",
    "1. Carrega o arquivo CSV que foi baixado no passo \"Encontra Processos\"\n",
    "2. Para Cada linha no arquivo, inclui/atualiza o documento na base \n",
    "\n",
    "\n"
   ]
  },
  {
   "cell_type": "code",
   "execution_count": 1,
   "metadata": {},
   "outputs": [],
   "source": [
    "# Importando as Bibliotecas\n",
    "import pandas as pd\n",
    "import json\n",
    "import pymongo\n",
    "import yaml"
   ]
  },
  {
   "cell_type": "code",
   "execution_count": null,
   "metadata": {},
   "outputs": [],
   "source": [
    "# Carrega Configurações do arquivo config\n",
    "with open(\"config.yaml\", \"r\") as ymlfile:\n",
    "    cfg = yaml.full_load(ymlfile)\n",
    "\n",
    "user = cfg[\"mongodb\"][\"user\"]\n",
    "passwd = cfg[\"mongodb\"][\"passwd\"]\n",
    "host = cfg[\"mongodb\"][\"host\"]\n",
    "dbmongo = cfg[\"mongodb\"][\"db\"]"
   ]
  },
  {
   "cell_type": "code",
   "execution_count": null,
   "metadata": {},
   "outputs": [],
   "source": [
    "# Cria Conexão com banco\n",
    "url_conexao = \"mongodb+srv://\" + user + \":\" + passwd + \"@\" + host + \"/?retryWrites=true&w=majority\"\n",
    "client = pymongo.MongoClient(url_conexao)\n",
    "db = client[dbmongo]\n"
   ]
  },
  {
   "cell_type": "code",
   "execution_count": null,
   "metadata": {},
   "outputs": [],
   "source": [
    "# Coleções Mongo\n",
    "col_processos = db['processo']\n"
   ]
  },
  {
   "cell_type": "code",
   "execution_count": 3,
   "metadata": {},
   "outputs": [],
   "source": [
    "#Parâmetros de Carga\n",
    "arquivo = \"2022_09_22_tjsp_processos_mapfre.csv\"\n"
   ]
  },
  {
   "cell_type": "code",
   "execution_count": null,
   "metadata": {},
   "outputs": [],
   "source": [
    "# Carrega o arquivo CSV em um Data Frame\n",
    "df_processos = pd.read_csv('./dados/' + arquivo,sep=';',encoding='utf-8')\n",
    "df_processos"
   ]
  },
  {
   "cell_type": "code",
   "execution_count": 5,
   "metadata": {},
   "outputs": [],
   "source": [
    "# Carrega os dados do processo na base, se já existe, atualiza. \n",
    "for index,proc in df_processos.iterrows(): \n",
    "    json_str = df_processos.loc[index].to_json()\n",
    "    json_str = json_str.replace('[','')\n",
    "    json_str = json_str.replace(']','')\n",
    "    json_str = '{\"processo\":' + json_str + '}'\n",
    "    col_processos.find_one_and_update({'processo.nro_processo':df_processos.loc[0]['nro_processo']},{'$set':json.loads(json_str)},upsert=True)    \n",
    "    \n",
    "\n",
    "    "
   ]
  }
 ],
 "metadata": {
  "kernelspec": {
   "display_name": "Python 3.10.7 64-bit",
   "language": "python",
   "name": "python3"
  },
  "language_info": {
   "codemirror_mode": {
    "name": "ipython",
    "version": 3
   },
   "file_extension": ".py",
   "mimetype": "text/x-python",
   "name": "python",
   "nbconvert_exporter": "python",
   "pygments_lexer": "ipython3",
   "version": "3.10.7"
  },
  "orig_nbformat": 4,
  "vscode": {
   "interpreter": {
    "hash": "26de051ba29f2982a8de78e945f0abaf191376122a1563185a90213a26c5da77"
   }
  }
 },
 "nbformat": 4,
 "nbformat_minor": 2
}
