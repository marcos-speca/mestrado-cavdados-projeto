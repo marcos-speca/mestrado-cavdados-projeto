{
 "cells": [
  {
   "cell_type": "markdown",
   "metadata": {},
   "source": [
    "### Encontra e Carrega os Processos por CNPJ ou Nome da Parte\n"
   ]
  },
  {
   "cell_type": "code",
   "execution_count": 13,
   "metadata": {},
   "outputs": [],
   "source": [
    "# Importando as Bibliotecas\n",
    "import pandas as pd\n",
    "import requests \n",
    "from bs4 import BeautifulSoup\n",
    "import json\n",
    "import pymongo\n",
    "import time\n",
    "import yaml"
   ]
  },
  {
   "cell_type": "code",
   "execution_count": 14,
   "metadata": {},
   "outputs": [
    {
     "data": {
      "text/plain": [
       "'https://esaj.tjsp.jus.br/cpopg/search.do?cbPesquisa=DOCPARTE&dadosConsulta.valorConsulta=60967551000150'"
      ]
     },
     "execution_count": 14,
     "metadata": {},
     "output_type": "execute_result"
    }
   ],
   "source": [
    "# Parâmetros Iniciais TJSP Esaj\n",
    "url_base = \"https://esaj.tjsp.jus.br/cpopg/search.do?\"\n",
    "\n",
    "#Parâmetros de Busca \n",
    "busca_nome = \"\".replace(' ','+')\n",
    "busca_cnpj = \"60967551000150\"\n",
    "cod_empresa = \"MACKENZIE\"\n",
    "dados = []\n",
    "\n",
    "if busca_cnpj: \n",
    "    url_pesquisa = url_base + \"cbPesquisa=DOCPARTE&dadosConsulta.valorConsulta=\" + busca_cnpj\n",
    "else: \n",
    "    url_pesquisa = url_base + \"cbPesquisa=NMPARTE&dadosConsulta.valorConsulta=\" + busca_nome\n",
    "\n",
    "url_pesquisa"
   ]
  },
  {
   "cell_type": "code",
   "execution_count": 15,
   "metadata": {},
   "outputs": [],
   "source": [
    "# Carrega Configurações do arquivo config\n",
    "with open(\"../config.yaml\", \"r\") as ymlfile:\n",
    "    cfg = yaml.full_load(ymlfile)\n",
    "\n",
    "user = cfg[\"mongodb\"][\"user\"]\n",
    "passwd = cfg[\"mongodb\"][\"passwd\"]\n",
    "host = cfg[\"mongodb\"][\"host\"]\n",
    "dbmongo = cfg[\"mongodb\"][\"db\"]"
   ]
  },
  {
   "cell_type": "code",
   "execution_count": 16,
   "metadata": {},
   "outputs": [],
   "source": [
    "# Cria Conexão com banco\n",
    "url_conexao = \"mongodb+srv://\" + user + \":\" + passwd + \"@\" + host + \"/?retryWrites=true&w=majority\"\n",
    "client = pymongo.MongoClient(url_conexao)\n",
    "db = client[dbmongo]\n"
   ]
  },
  {
   "cell_type": "code",
   "execution_count": 17,
   "metadata": {},
   "outputs": [],
   "source": [
    "# Coleções Mongo\n",
    "col_processos = db['processo']\n"
   ]
  },
  {
   "cell_type": "code",
   "execution_count": 18,
   "metadata": {},
   "outputs": [],
   "source": [
    "# Lista de Foros do TJSP\n",
    "lista_foros = [1, 2, 3, 4, 5, 6,7, 8, 9, 10, 11, 12,13, 14, 15, 16, 17, 18,19, 20, 21, 22, 24, 25,28, 30, 32, 35, 37, 38,40, 42, 45, 47, 48, 50,52, 53, 58, 59, 60, 62,\n",
    "63, 66, 67, 68, 69, 70,71, 72, 73, 75, 76, 77,79, 80, 81, 82, 83, 84,85, 86, 87, 88, 89, 90,91, 93, 94, 95, 97, 99,100, 101, 102, 103, 104, 106,108, 111, 114, 115, 116, 118,\n",
    "120, 123, 125, 126, 127, 128,129, 132, 136, 137, 140, 142,144, 145, 146, 150, 152, 153,156, 157, 159, 160, 161, 165,168, 169, 172, 176, 177, 180,185, 187, 189, 191, 196, 197,\n",
    "198, 200, 201, 204, 205, 210,213, 218, 219, 220, 222, 223,224, 229, 233, 236, 238, 240,242, 244, 246, 247, 248, 252,257, 262, 263, 264, 266, 268,269, 270, 271, 272, 274, 275,\n",
    "278, 279, 280, 281, 282, 283,286, 288, 291, 292, 294, 296,297, 299, 300, 301, 302, 306,309, 311, 312, 315, 318, 319,320, 322, 323, 326, 333, 334,337, 338, 341, 344, 346, 347,\n",
    "348, 352, 355, 356, 357, 358,360, 361, 362, 363, 366, 368,369, 370, 372, 374, 382, 383,390, 394, 396, 397, 400, 404,405, 407, 408, 411, 412, 414,415, 416, 417, 418, 420, 424,\n",
    "426, 428, 430, 431, 434, 435,438, 439, 441, 443, 444, 445,447, 449, 450, 451, 452, 453,456, 457, 458, 459, 462, 464,466, 470, 471, 472, 474, 477,480, 481, 482, 483, 484, 486,\n",
    "488, 491, 493, 495, 498, 505,506, 510, 511, 512, 515, 516,523, 526, 531, 533, 534, 538,539, 541, 543, 547, 549, 553,554, 562, 563, 564, 565, 566,568, 572, 575, 576, 577, 579,\n",
    "581, 582, 584, 586, 587, 588,589, 590, 595, 596, 597, 601,602, 604, 606, 607, 609, 614,615, 619, 620, 624, 625, 627,629, 634, 637, 638, 642, 646,648, 650, 651, 653, 654, 655,\n",
    "659, 660, 663, 664, 665, 666,667, 668, 669, 670, 671, 672,673, 674, 675, 676, 677, 678,679, 680, 681, 682, 683, 684,685, 686, 687, 688, 689, 690,691, 692, 693, 694, 695, 696,\n",
    "697, 698, 699, 700, 701, 702,703, 704, 705, 706, 707, 708,709, 710, 990]"
   ]
  },
  {
   "cell_type": "code",
   "execution_count": 19,
   "metadata": {},
   "outputs": [],
   "source": [
    "def carrega_processo(linha):\n",
    "    json_str = '{\"processo\":' + json.dumps(linha) + '}'\n",
    "    col_processos.find_one_and_update({'processo.nro_processo':linha['nro_processo']},{'$set':json.loads(json_str)},upsert=True)"
   ]
  },
  {
   "cell_type": "code",
   "execution_count": 20,
   "metadata": {},
   "outputs": [],
   "source": [
    "def scrapping_foro(foro):\n",
    "   # Monta a URL de Busca\n",
    "   url_busca = url_pesquisa + \"&cdForo=\" + str(foro)\n",
    "   \n",
    "   # Tenta fazer o request\n",
    "   try:\n",
    "      html = requests.get(url_busca).content\n",
    "   except:\n",
    "      print(\"Não foi possível carregar a URL\")\n",
    "   \n",
    "   # Faz o parser do HTML\n",
    "   soup = BeautifulSoup(html, 'html.parser')\n",
    "   \n",
    "   # Se retornou muito ou não retornou resultados, a página exibe mensagem \n",
    "   mensagem = soup.find('td',attrs={'id':'mensagemRetorno'})\n",
    "\n",
    "   # Em alguns casos, se tive um processo só, ele retorna o processo\n",
    "   processo_unico = soup.find('span',attrs={'id':'numeroProcesso'})\n",
    "\n",
    "   # Caso retorne mais do que um processo, ele mostra a quantidades (Util para saber as páginas)\n",
    "   qtde_processos = soup.find(\"span\",attrs={'id':'contadorDeProcessos'})\n",
    "\n",
    "   # Se não encontrou\n",
    "   if mensagem: \n",
    "      mensagem = mensagem.text.strip()\n",
    "      print(\"Scrapping do foro: \" + str(foro) + \" mensagem: \" + mensagem)\n",
    "      \n",
    "   # No caso de processo Unico, faz o scrapping\n",
    "   elif processo_unico:\n",
    "             \n",
    "      nro_processo = processo_unico.text.strip()\n",
    "      print(\"Scrapping do foro: \" + str(foro) + \" processos: 1\")\n",
    "\n",
    "      classe_processo = soup.find('span',attrs={'id':'classeProcesso'}).text.strip()\n",
    "      assunto_processo = soup.find('span',attrs={'id':'assuntoProcesso'})\n",
    "      \n",
    "      if assunto_processo: \n",
    "         assunto_processo = assunto_processo.text.strip()\n",
    "      \n",
    "      data_local_distribuicao = soup.find('div',attrs={'id':'dataHoraDistribuicaoProcesso'}).text.strip()\n",
    "\n",
    "      \n",
    "      linha = dict({\"nro_processo\":nro_processo, \"link_processo\":'', \"nome_parte\":'',\"tipo_participacao\":'', \"classe_processo\":classe_processo, \"assunto_processo\":assunto_processo,\"data_local_distribuicao\":data_local_distribuicao,\"cod_empresa\":cod_empresa})\n",
    "      \n",
    "      if linha:\n",
    "         dados.append([nro_processo, '','','',classe_processo,assunto_processo,data_local_distribuicao,cod_empresa])\n",
    "         carrega_processo(linha)\n",
    "\n",
    "\n",
    "   # Se tem varias páginas\n",
    "   elif qtde_processos:\n",
    "      \n",
    "      qtde = qtde_processos.text.strip()\n",
    "      qtde = ''.join(c if c.isdigit() else '' for c in qtde)\n",
    "\n",
    "      print(\"Scrapping do foro: \" + str(foro) + \" processos: \" + str(qtde))\n",
    "      \n",
    "      paginas = round(int(qtde)/25)\n",
    "      \n",
    "      # Abre cada página\n",
    "      for pagina in range(1,paginas+1): \n",
    "         url_pagina = url_busca + \"&paginaConsulta=\" + str(pagina)\n",
    "         \n",
    "         try:\n",
    "            html_pagina = requests.get(url_pagina).content\n",
    "         except:\n",
    "            print(\"Não foi possível carregar a URL\")\n",
    "\n",
    "         soup_pagina = BeautifulSoup(html_pagina, 'html.parser')\n",
    "\n",
    "         processo_unico_pagina = soup_pagina.find('span',attrs={'id':'numeroProcesso'})\n",
    "         tabela = soup_pagina.find(\"div\",attrs={'id':'listagemDeProcessos'})  \n",
    "\n",
    "         # No caso de processo Unico na página, faz o scrapping\n",
    "         if processo_unico_pagina:\n",
    "                  \n",
    "            nro_processo = processo_unico_pagina.text.strip()\n",
    "            classe_processo = soup.find('span',attrs={'id':'classeProcesso'}).text.strip()\n",
    "            assunto_processo = soup.find('span',attrs={'id':'assuntoProcesso'})\n",
    "            \n",
    "            if assunto_processo: \n",
    "               assunto_processo = assunto_processo.text.strip()\n",
    "            \n",
    "            data_local_distribuicao = soup.find('div',attrs={'id':'dataHoraDistribuicaoProcesso'}).text.strip()\n",
    "\n",
    "            linha = dict({\"nro_processo\":nro_processo, \"link_processo\":'', \"nome_parte\":'',\"tipo_participacao\":'', \"classe_processo\":classe_processo, \"assunto_processo\":assunto_processo,\"data_local_distribuicao\":data_local_distribuicao,\"cod_empresa\":cod_empresa})\n",
    "            \n",
    "            if linha:\n",
    "               dados.append([nro_processo, '','','',classe_processo,assunto_processo,data_local_distribuicao,cod_empresa])\n",
    "               carrega_processo(linha)\n",
    "         \n",
    "         # Se não faz o scrapping a lista de processos da página\n",
    "         elif tabela:\n",
    "\n",
    "            processos_pagina = tabela.find_all('div',attrs={'class':'row unj-ai-c home__lista-de-processos'})\n",
    "\n",
    "            for proc in processos_pagina:\n",
    "               nro_processo = proc.find('a',attrs={'class':'linkProcesso'}).text.strip()\n",
    "               link_processo = proc.find('a',attrs={'class':'linkProcesso'}).attrs['href'].strip()\n",
    "               try: \n",
    "                  nome_parte = proc.find('div',attrs={'class':'unj-base-alt nomeParte'}).text.strip()\n",
    "               except:\n",
    "                  nome_parte = ''\n",
    "\n",
    "               try: \n",
    "                  tipo_participacao = proc.find('label',attrs={'class':'unj-label tipoDeParticipacao'}).text.strip()\n",
    "               except:\n",
    "                  tipo_participacao = ''\n",
    "\n",
    "               classe_processo = proc.find('div',attrs={'class':'classeProcesso'}).text.strip()\n",
    "               assunto_processo = proc.find('div',attrs={'class':'assuntoPrincipalProcesso'}).text.strip()\n",
    "               data_local_distribuicao = proc.find('div',attrs={'class':'dataLocalDistribuicaoProcesso'}).text.strip()\n",
    "\n",
    "               linha = dict({\"nro_processo\":nro_processo, \"link_processo\":link_processo, \"nome_parte\":nome_parte, \"tipo_participacao\":tipo_participacao,\"classe_processo\":classe_processo, \"assunto_processo\":assunto_processo,\"data_local_distribuicao\":data_local_distribuicao,\"cod_empresa\":cod_empresa})\n",
    "\n",
    "               if linha:\n",
    "                  dados.append([nro_processo, link_processo,nome_parte,tipo_participacao,classe_processo,assunto_processo,data_local_distribuicao,cod_empresa])\n",
    "                  carrega_processo(linha)\n"
   ]
  },
  {
   "cell_type": "code",
   "execution_count": null,
   "metadata": {},
   "outputs": [],
   "source": [
    "# Busca em Todos os Foros \"-1\"\n",
    "scrapping_foro(-1)"
   ]
  },
  {
   "cell_type": "code",
   "execution_count": 21,
   "metadata": {},
   "outputs": [
    {
     "name": "stdout",
     "output_type": "stream",
     "text": [
      "Scrapping do foro: 1 processos: 57\n"
     ]
    },
    {
     "ename": "KeyboardInterrupt",
     "evalue": "",
     "output_type": "error",
     "traceback": [
      "\u001b[1;31m---------------------------------------------------------------------------\u001b[0m",
      "\u001b[1;31mKeyboardInterrupt\u001b[0m                         Traceback (most recent call last)",
      "Cell \u001b[1;32mIn [21], line 3\u001b[0m\n\u001b[0;32m      1\u001b[0m \u001b[38;5;66;03m# Busca Foro por Foro\u001b[39;00m\n\u001b[0;32m      2\u001b[0m \u001b[38;5;28;01mfor\u001b[39;00m foro \u001b[38;5;129;01min\u001b[39;00m lista_foros: \n\u001b[1;32m----> 3\u001b[0m     \u001b[43mscrapping_foro\u001b[49m\u001b[43m(\u001b[49m\u001b[43mforo\u001b[49m\u001b[43m)\u001b[49m\n",
      "Cell \u001b[1;32mIn [20], line 118\u001b[0m, in \u001b[0;36mscrapping_foro\u001b[1;34m(foro)\u001b[0m\n\u001b[0;32m    116\u001b[0m \u001b[38;5;28;01mif\u001b[39;00m linha:\n\u001b[0;32m    117\u001b[0m    dados\u001b[38;5;241m.\u001b[39mappend([nro_processo, link_processo,nome_parte,tipo_participacao,classe_processo,assunto_processo,data_local_distribuicao,cod_empresa])\n\u001b[1;32m--> 118\u001b[0m    \u001b[43mcarrega_processo\u001b[49m\u001b[43m(\u001b[49m\u001b[43mlinha\u001b[49m\u001b[43m)\u001b[49m\n",
      "Cell \u001b[1;32mIn [19], line 3\u001b[0m, in \u001b[0;36mcarrega_processo\u001b[1;34m(linha)\u001b[0m\n\u001b[0;32m      1\u001b[0m \u001b[38;5;28;01mdef\u001b[39;00m \u001b[38;5;21mcarrega_processo\u001b[39m(linha):\n\u001b[0;32m      2\u001b[0m     json_str \u001b[38;5;241m=\u001b[39m \u001b[38;5;124m'\u001b[39m\u001b[38;5;124m{\u001b[39m\u001b[38;5;124m\"\u001b[39m\u001b[38;5;124mprocesso\u001b[39m\u001b[38;5;124m\"\u001b[39m\u001b[38;5;124m:\u001b[39m\u001b[38;5;124m'\u001b[39m \u001b[38;5;241m+\u001b[39m json\u001b[38;5;241m.\u001b[39mdumps(linha) \u001b[38;5;241m+\u001b[39m \u001b[38;5;124m'\u001b[39m\u001b[38;5;124m}\u001b[39m\u001b[38;5;124m'\u001b[39m\n\u001b[1;32m----> 3\u001b[0m     \u001b[43mcol_processos\u001b[49m\u001b[38;5;241;43m.\u001b[39;49m\u001b[43mfind_one_and_update\u001b[49m\u001b[43m(\u001b[49m\u001b[43m{\u001b[49m\u001b[38;5;124;43m'\u001b[39;49m\u001b[38;5;124;43mprocesso.nro_processo\u001b[39;49m\u001b[38;5;124;43m'\u001b[39;49m\u001b[43m:\u001b[49m\u001b[43mlinha\u001b[49m\u001b[43m[\u001b[49m\u001b[38;5;124;43m'\u001b[39;49m\u001b[38;5;124;43mnro_processo\u001b[39;49m\u001b[38;5;124;43m'\u001b[39;49m\u001b[43m]\u001b[49m\u001b[43m}\u001b[49m\u001b[43m,\u001b[49m\u001b[43m{\u001b[49m\u001b[38;5;124;43m'\u001b[39;49m\u001b[38;5;124;43m$set\u001b[39;49m\u001b[38;5;124;43m'\u001b[39;49m\u001b[43m:\u001b[49m\u001b[43mjson\u001b[49m\u001b[38;5;241;43m.\u001b[39;49m\u001b[43mloads\u001b[49m\u001b[43m(\u001b[49m\u001b[43mjson_str\u001b[49m\u001b[43m)\u001b[49m\u001b[43m}\u001b[49m\u001b[43m,\u001b[49m\u001b[43mupsert\u001b[49m\u001b[38;5;241;43m=\u001b[39;49m\u001b[38;5;28;43;01mTrue\u001b[39;49;00m\u001b[43m)\u001b[49m\n",
      "File \u001b[1;32m~\\AppData\\Roaming\\Python\\Python310\\site-packages\\pymongo\\collection.py:3170\u001b[0m, in \u001b[0;36mCollection.find_one_and_update\u001b[1;34m(self, filter, update, projection, sort, upsert, return_document, array_filters, hint, session, let, comment, **kwargs)\u001b[0m\n\u001b[0;32m   3168\u001b[0m \u001b[39mif\u001b[39;00m comment \u001b[39mis\u001b[39;00m \u001b[39mnot\u001b[39;00m \u001b[39mNone\u001b[39;00m:\n\u001b[0;32m   3169\u001b[0m     kwargs[\u001b[39m\"\u001b[39m\u001b[39mcomment\u001b[39m\u001b[39m\"\u001b[39m] \u001b[39m=\u001b[39m comment\n\u001b[1;32m-> 3170\u001b[0m \u001b[39mreturn\u001b[39;00m \u001b[39mself\u001b[39m\u001b[39m.\u001b[39m__find_and_modify(\n\u001b[0;32m   3171\u001b[0m     \u001b[39mfilter\u001b[39m,\n\u001b[0;32m   3172\u001b[0m     projection,\n\u001b[0;32m   3173\u001b[0m     sort,\n\u001b[0;32m   3174\u001b[0m     upsert,\n\u001b[0;32m   3175\u001b[0m     return_document,\n\u001b[0;32m   3176\u001b[0m     array_filters,\n\u001b[0;32m   3177\u001b[0m     hint\u001b[39m=\u001b[39mhint,\n\u001b[0;32m   3178\u001b[0m     let\u001b[39m=\u001b[39mlet,\n\u001b[0;32m   3179\u001b[0m     session\u001b[39m=\u001b[39msession,\n\u001b[0;32m   3180\u001b[0m     \u001b[39m*\u001b[39m\u001b[39m*\u001b[39mkwargs,\n\u001b[0;32m   3181\u001b[0m )\n",
      "File \u001b[1;32m~\\AppData\\Roaming\\Python\\Python310\\site-packages\\pymongo\\collection.py:2831\u001b[0m, in \u001b[0;36mCollection.__find_and_modify\u001b[1;34m(self, filter, projection, sort, upsert, return_document, array_filters, hint, session, let, **kwargs)\u001b[0m\n\u001b[0;32m   2827\u001b[0m     _check_write_command_response(out)\n\u001b[0;32m   2829\u001b[0m     \u001b[39mreturn\u001b[39;00m out\u001b[39m.\u001b[39mget(\u001b[39m\"\u001b[39m\u001b[39mvalue\u001b[39m\u001b[39m\"\u001b[39m)\n\u001b[1;32m-> 2831\u001b[0m \u001b[39mreturn\u001b[39;00m \u001b[39mself\u001b[39;49m\u001b[39m.\u001b[39;49m__database\u001b[39m.\u001b[39;49mclient\u001b[39m.\u001b[39;49m_retryable_write(\n\u001b[0;32m   2832\u001b[0m     write_concern\u001b[39m.\u001b[39;49macknowledged, _find_and_modify, session\n\u001b[0;32m   2833\u001b[0m )\n",
      "File \u001b[1;32m~\\AppData\\Roaming\\Python\\Python310\\site-packages\\pymongo\\mongo_client.py:1447\u001b[0m, in \u001b[0;36mMongoClient._retryable_write\u001b[1;34m(self, retryable, func, session)\u001b[0m\n\u001b[0;32m   1445\u001b[0m \u001b[39mdef\u001b[39;00m \u001b[39m_retryable_write\u001b[39m(\u001b[39mself\u001b[39m, retryable, func, session):\n\u001b[0;32m   1446\u001b[0m     \u001b[39m\"\"\"Internal retryable write helper.\"\"\"\u001b[39;00m\n\u001b[1;32m-> 1447\u001b[0m     \u001b[39mwith\u001b[39;00m \u001b[39mself\u001b[39m\u001b[39m.\u001b[39m_tmp_session(session) \u001b[39mas\u001b[39;00m s:\n\u001b[0;32m   1448\u001b[0m         \u001b[39mreturn\u001b[39;00m \u001b[39mself\u001b[39m\u001b[39m.\u001b[39m_retry_with_session(retryable, func, s, \u001b[39mNone\u001b[39;00m)\n",
      "File \u001b[1;32mc:\\Program Files\\Python310\\lib\\contextlib.py:135\u001b[0m, in \u001b[0;36m_GeneratorContextManager.__enter__\u001b[1;34m(self)\u001b[0m\n\u001b[0;32m    133\u001b[0m \u001b[39mdel\u001b[39;00m \u001b[39mself\u001b[39m\u001b[39m.\u001b[39margs, \u001b[39mself\u001b[39m\u001b[39m.\u001b[39mkwds, \u001b[39mself\u001b[39m\u001b[39m.\u001b[39mfunc\n\u001b[0;32m    134\u001b[0m \u001b[39mtry\u001b[39;00m:\n\u001b[1;32m--> 135\u001b[0m     \u001b[39mreturn\u001b[39;00m \u001b[39mnext\u001b[39;49m(\u001b[39mself\u001b[39;49m\u001b[39m.\u001b[39;49mgen)\n\u001b[0;32m    136\u001b[0m \u001b[39mexcept\u001b[39;00m \u001b[39mStopIteration\u001b[39;00m:\n\u001b[0;32m    137\u001b[0m     \u001b[39mraise\u001b[39;00m \u001b[39mRuntimeError\u001b[39;00m(\u001b[39m\"\u001b[39m\u001b[39mgenerator didn\u001b[39m\u001b[39m'\u001b[39m\u001b[39mt yield\u001b[39m\u001b[39m\"\u001b[39m) \u001b[39mfrom\u001b[39;00m \u001b[39mNone\u001b[39m\n",
      "File \u001b[1;32m~\\AppData\\Roaming\\Python\\Python310\\site-packages\\pymongo\\mongo_client.py:1729\u001b[0m, in \u001b[0;36mMongoClient._tmp_session\u001b[1;34m(self, session, close)\u001b[0m\n\u001b[0;32m   1726\u001b[0m     \u001b[39myield\u001b[39;00m session\n\u001b[0;32m   1727\u001b[0m     \u001b[39mreturn\u001b[39;00m\n\u001b[1;32m-> 1729\u001b[0m s \u001b[39m=\u001b[39m \u001b[39mself\u001b[39;49m\u001b[39m.\u001b[39;49m_ensure_session(session)\n\u001b[0;32m   1730\u001b[0m \u001b[39mif\u001b[39;00m s:\n\u001b[0;32m   1731\u001b[0m     \u001b[39mtry\u001b[39;00m:\n",
      "File \u001b[1;32m~\\AppData\\Roaming\\Python\\Python310\\site-packages\\pymongo\\mongo_client.py:1712\u001b[0m, in \u001b[0;36mMongoClient._ensure_session\u001b[1;34m(self, session)\u001b[0m\n\u001b[0;32m   1707\u001b[0m     \u001b[39mreturn\u001b[39;00m session\n\u001b[0;32m   1709\u001b[0m \u001b[39mtry\u001b[39;00m:\n\u001b[0;32m   1710\u001b[0m     \u001b[39m# Don't make implicit sessions causally consistent. Applications\u001b[39;00m\n\u001b[0;32m   1711\u001b[0m     \u001b[39m# should always opt-in.\u001b[39;00m\n\u001b[1;32m-> 1712\u001b[0m     \u001b[39mreturn\u001b[39;00m \u001b[39mself\u001b[39;49m\u001b[39m.\u001b[39;49m__start_session(\u001b[39mTrue\u001b[39;49;00m, causal_consistency\u001b[39m=\u001b[39;49m\u001b[39mFalse\u001b[39;49;00m)\n\u001b[0;32m   1713\u001b[0m \u001b[39mexcept\u001b[39;00m (ConfigurationError, InvalidOperation):\n\u001b[0;32m   1714\u001b[0m     \u001b[39m# Sessions not supported.\u001b[39;00m\n\u001b[0;32m   1715\u001b[0m     \u001b[39mreturn\u001b[39;00m \u001b[39mNone\u001b[39;00m\n",
      "File \u001b[1;32m~\\AppData\\Roaming\\Python\\Python310\\site-packages\\pymongo\\mongo_client.py:1657\u001b[0m, in \u001b[0;36mMongoClient.__start_session\u001b[1;34m(self, implicit, **kwargs)\u001b[0m\n\u001b[0;32m   1654\u001b[0m \u001b[39mdef\u001b[39;00m \u001b[39m__start_session\u001b[39m(\u001b[39mself\u001b[39m, implicit, \u001b[39m*\u001b[39m\u001b[39m*\u001b[39mkwargs):\n\u001b[0;32m   1655\u001b[0m     \u001b[39m# Raises ConfigurationError if sessions are not supported.\u001b[39;00m\n\u001b[0;32m   1656\u001b[0m     \u001b[39mif\u001b[39;00m implicit:\n\u001b[1;32m-> 1657\u001b[0m         \u001b[39mself\u001b[39;49m\u001b[39m.\u001b[39;49m_topology\u001b[39m.\u001b[39;49m_check_implicit_session_support()\n\u001b[0;32m   1658\u001b[0m         server_session \u001b[39m=\u001b[39m _EmptyServerSession()\n\u001b[0;32m   1659\u001b[0m     \u001b[39melse\u001b[39;00m:\n",
      "File \u001b[1;32m~\\AppData\\Roaming\\Python\\Python310\\site-packages\\pymongo\\topology.py:538\u001b[0m, in \u001b[0;36mTopology._check_implicit_session_support\u001b[1;34m(self)\u001b[0m\n\u001b[0;32m    536\u001b[0m \u001b[39mdef\u001b[39;00m \u001b[39m_check_implicit_session_support\u001b[39m(\u001b[39mself\u001b[39m):\n\u001b[0;32m    537\u001b[0m     \u001b[39mwith\u001b[39;00m \u001b[39mself\u001b[39m\u001b[39m.\u001b[39m_lock:\n\u001b[1;32m--> 538\u001b[0m         \u001b[39mself\u001b[39;49m\u001b[39m.\u001b[39;49m_check_session_support()\n",
      "File \u001b[1;32m~\\AppData\\Roaming\\Python\\Python310\\site-packages\\pymongo\\topology.py:554\u001b[0m, in \u001b[0;36mTopology._check_session_support\u001b[1;34m(self)\u001b[0m\n\u001b[0;32m    550\u001b[0m         \u001b[39mself\u001b[39m\u001b[39m.\u001b[39m_select_servers_loop(\n\u001b[0;32m    551\u001b[0m             any_server_selector, \u001b[39mself\u001b[39m\u001b[39m.\u001b[39mget_server_selection_timeout(), \u001b[39mNone\u001b[39;00m\n\u001b[0;32m    552\u001b[0m         )\n\u001b[0;32m    553\u001b[0m \u001b[39melif\u001b[39;00m \u001b[39mnot\u001b[39;00m \u001b[39mself\u001b[39m\u001b[39m.\u001b[39m_description\u001b[39m.\u001b[39mreadable_servers:\n\u001b[1;32m--> 554\u001b[0m     \u001b[39mself\u001b[39;49m\u001b[39m.\u001b[39;49m_select_servers_loop(\n\u001b[0;32m    555\u001b[0m         readable_server_selector, \u001b[39mself\u001b[39;49m\u001b[39m.\u001b[39;49mget_server_selection_timeout(), \u001b[39mNone\u001b[39;49;00m\n\u001b[0;32m    556\u001b[0m     )\n\u001b[0;32m    558\u001b[0m session_timeout \u001b[39m=\u001b[39m \u001b[39mself\u001b[39m\u001b[39m.\u001b[39m_description\u001b[39m.\u001b[39mlogical_session_timeout_minutes\n\u001b[0;32m    559\u001b[0m \u001b[39mif\u001b[39;00m session_timeout \u001b[39mis\u001b[39;00m \u001b[39mNone\u001b[39;00m:\n",
      "File \u001b[1;32m~\\AppData\\Roaming\\Python\\Python310\\site-packages\\pymongo\\topology.py:250\u001b[0m, in \u001b[0;36mTopology._select_servers_loop\u001b[1;34m(self, selector, timeout, address)\u001b[0m\n\u001b[0;32m    244\u001b[0m \u001b[39mself\u001b[39m\u001b[39m.\u001b[39m_request_check_all()\n\u001b[0;32m    246\u001b[0m \u001b[39m# Release the lock and wait for the topology description to\u001b[39;00m\n\u001b[0;32m    247\u001b[0m \u001b[39m# change, or for a timeout. We won't miss any changes that\u001b[39;00m\n\u001b[0;32m    248\u001b[0m \u001b[39m# came after our most recent apply_selector call, since we've\u001b[39;00m\n\u001b[0;32m    249\u001b[0m \u001b[39m# held the lock until now.\u001b[39;00m\n\u001b[1;32m--> 250\u001b[0m \u001b[39mself\u001b[39;49m\u001b[39m.\u001b[39;49m_condition\u001b[39m.\u001b[39;49mwait(common\u001b[39m.\u001b[39;49mMIN_HEARTBEAT_INTERVAL)\n\u001b[0;32m    251\u001b[0m \u001b[39mself\u001b[39m\u001b[39m.\u001b[39m_description\u001b[39m.\u001b[39mcheck_compatible()\n\u001b[0;32m    252\u001b[0m now \u001b[39m=\u001b[39m time\u001b[39m.\u001b[39mmonotonic()\n",
      "File \u001b[1;32mc:\\Program Files\\Python310\\lib\\threading.py:324\u001b[0m, in \u001b[0;36mCondition.wait\u001b[1;34m(self, timeout)\u001b[0m\n\u001b[0;32m    322\u001b[0m \u001b[39melse\u001b[39;00m:\n\u001b[0;32m    323\u001b[0m     \u001b[39mif\u001b[39;00m timeout \u001b[39m>\u001b[39m \u001b[39m0\u001b[39m:\n\u001b[1;32m--> 324\u001b[0m         gotit \u001b[39m=\u001b[39m waiter\u001b[39m.\u001b[39;49macquire(\u001b[39mTrue\u001b[39;49;00m, timeout)\n\u001b[0;32m    325\u001b[0m     \u001b[39melse\u001b[39;00m:\n\u001b[0;32m    326\u001b[0m         gotit \u001b[39m=\u001b[39m waiter\u001b[39m.\u001b[39macquire(\u001b[39mFalse\u001b[39;00m)\n",
      "\u001b[1;31mKeyboardInterrupt\u001b[0m: "
     ]
    }
   ],
   "source": [
    "# Busca Foro por Foro\n",
    "for foro in lista_foros: \n",
    "    scrapping_foro(foro)"
   ]
  },
  {
   "cell_type": "code",
   "execution_count": null,
   "metadata": {},
   "outputs": [],
   "source": [
    "df_processos = pd.DataFrame(dados,columns=[\"nro_processo\",\"link_processo\",\"nome_parte\",\"tipo_participacao\",\"classe_processo\",\"assunto_processo\",\"data_local_distribuicao\",\"cod_empresa\"])\n",
    "df_processos"
   ]
  },
  {
   "cell_type": "code",
   "execution_count": null,
   "metadata": {},
   "outputs": [],
   "source": [
    "nome_arquivo = str(time.strftime(\"%Y_%m_%d\")) + '_tjsp_processos_' + cod_empresa.lower() + '.csv'\n",
    "\n",
    "# Salva o arquivo \n",
    "df_processos.to_csv('./dados/' + nome_arquivo,sep=\";\", index=False)\n"
   ]
  }
 ],
 "metadata": {
  "kernelspec": {
   "display_name": "Python 3.10.7 64-bit",
   "language": "python",
   "name": "python3"
  },
  "language_info": {
   "codemirror_mode": {
    "name": "ipython",
    "version": 3
   },
   "file_extension": ".py",
   "mimetype": "text/x-python",
   "name": "python",
   "nbconvert_exporter": "python",
   "pygments_lexer": "ipython3",
   "version": "3.10.7"
  },
  "orig_nbformat": 4,
  "vscode": {
   "interpreter": {
    "hash": "26de051ba29f2982a8de78e945f0abaf191376122a1563185a90213a26c5da77"
   }
  }
 },
 "nbformat": 4,
 "nbformat_minor": 2
}
