{
 "cells": [
  {
   "cell_type": "markdown",
   "metadata": {},
   "source": [
    "### Carrega Lista de Processos, e baixa as decisões\n"
   ]
  },
  {
   "cell_type": "code",
   "execution_count": null,
   "metadata": {},
   "outputs": [],
   "source": [
    "# Importando as Bibliotecas\n",
    "import pandas as pd\n",
    "import requests \n",
    "from bs4 import BeautifulSoup"
   ]
  },
  {
   "cell_type": "code",
   "execution_count": null,
   "metadata": {},
   "outputs": [],
   "source": [
    "df_procs = pd.read_csv('./',sep=\";\")"
   ]
  },
  {
   "cell_type": "code",
   "execution_count": null,
   "metadata": {},
   "outputs": [],
   "source": [
    "df_procs['nro_processo']"
   ]
  },
  {
   "cell_type": "code",
   "execution_count": null,
   "metadata": {},
   "outputs": [],
   "source": [
    "def pega_valores(soup,tag):\n",
    "    valor = soup.select_one('strong:-soup-contains(\"'+ tag +'\")').parent.text.strip()\n",
    "    valor = valor.replace(tag +':','').replace('\\t','').replace('\\n','').strip()\n",
    "    return valor "
   ]
  },
  {
   "cell_type": "code",
   "execution_count": null,
   "metadata": {},
   "outputs": [],
   "source": [
    "procs = ['1008842-42.2021.8.26.0704','1003031-42.2022.8.26.0001']"
   ]
  },
  {
   "cell_type": "code",
   "execution_count": null,
   "metadata": {},
   "outputs": [],
   "source": [
    "for proc in procs:\n",
    "    url = \"https://esaj.tjsp.jus.br/cjpg/pesquisar.do?conversationId=&dadosConsulta.pesquisaLivre=&tipoNumero=UNIFICADO&numeroDigitoAnoUnificado=1003031-42.2022&foroNumeroUnificado=0001&dadosConsulta.nuProcesso=\" + proc\n",
    "    html = requests.get(url).content\n",
    "    soup = BeautifulSoup(html, 'html.parser')\n",
    "\n",
    "    aviso = soup.select_one('div:-soup-contains(\"Não foi encontrado nenhum\")')\n",
    "\n",
    "    if aviso: \n",
    "        print(\"Processo: \" + proc + \" sem resultados\")\n",
    "        \n",
    "    else:\n",
    "        print(\"Processo: \" + proc + \" com resultados\")\n",
    "        classe = pega_valores(soup,'Classe')\n",
    "        assunto = pega_valores(soup,'Assunto')\n",
    "        magistrado = pega_valores(soup,'Magistrado')\n",
    "        comarca = pega_valores(soup,'Comarca')\n",
    "        foro = pega_valores(soup,'Foro')\n",
    "        vara = pega_valores(soup,'Vara')\n",
    "        data_disp = pega_valores(soup,'Data de Disponibilização')\n",
    "        texto_decisao = soup.find('div',attrs={'align':'justify','style':'display: none;'})\n",
    "\n"
   ]
  },
  {
   "cell_type": "code",
   "execution_count": null,
   "metadata": {},
   "outputs": [],
   "source": [
    "print(classe)\n",
    "print(assunto)\n",
    "print(magistrado)\n",
    "print(comarca)\n",
    "print(foro)\n",
    "print(vara)\n",
    "print(data_disp)\n"
   ]
  }
 ],
 "metadata": {
  "kernelspec": {
   "display_name": "Python 3.8.12 ('base')",
   "language": "python",
   "name": "python3"
  },
  "language_info": {
   "codemirror_mode": {
    "name": "ipython",
    "version": 3
   },
   "file_extension": ".py",
   "mimetype": "text/x-python",
   "name": "python",
   "nbconvert_exporter": "python",
   "pygments_lexer": "ipython3",
   "version": "3.8.12"
  },
  "orig_nbformat": 4,
  "vscode": {
   "interpreter": {
    "hash": "ad2bdc8ecc057115af97d19610ffacc2b4e99fae6737bb82f5d7fb13d2f2c186"
   }
  }
 },
 "nbformat": 4,
 "nbformat_minor": 2
}
